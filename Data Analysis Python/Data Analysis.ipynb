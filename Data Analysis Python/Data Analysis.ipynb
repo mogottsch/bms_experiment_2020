{
 "cells": [
  {
   "cell_type": "code",
   "execution_count": 1,
   "metadata": {},
   "outputs": [],
   "source": [
    "import pandas as pd\n",
    "import numpy as np\n",
    "import statsmodels.api as sm\n",
    "from scipy import stats\n",
    "import matplotlib.pyplot as plt\n",
    "import seaborn as sns"
   ]
  },
  {
   "cell_type": "code",
   "execution_count": 35,
   "metadata": {},
   "outputs": [],
   "source": [
    "df = pd.read_csv(\"data23aug23uhr.csv\")"
   ]
  },
  {
   "cell_type": "code",
   "execution_count": 36,
   "metadata": {},
   "outputs": [
    {
     "data": {
      "text/plain": [
       "Index(['participant.id_in_session', 'participant.code', 'participant.label',\n",
       "       'participant._is_bot', 'participant._index_in_pages',\n",
       "       'participant._max_page_index', 'participant._current_app_name',\n",
       "       'participant._current_page_name', 'participant.time_started',\n",
       "       'participant.visited',\n",
       "       ...\n",
       "       'bms_experiment.2.player.q4_a2', 'bms_experiment.2.player.q4_a3',\n",
       "       'bms_experiment.2.player.q4_a4', 'bms_experiment.2.player.q4_a5',\n",
       "       'bms_experiment.2.player.attentive_1',\n",
       "       'bms_experiment.2.player.attentive_2',\n",
       "       'bms_experiment.2.player.finished', 'bms_experiment.2.player.payoff',\n",
       "       'bms_experiment.2.group.id_in_subsession',\n",
       "       'bms_experiment.2.subsession.round_number'],\n",
       "      dtype='object', length=110)"
      ]
     },
     "execution_count": 36,
     "metadata": {},
     "output_type": "execute_result"
    }
   ],
   "source": [
    "df.columns"
   ]
  },
  {
   "cell_type": "code",
   "execution_count": 37,
   "metadata": {},
   "outputs": [],
   "source": [
    "df.drop([\"participant._is_bot\",\"participant.code\",\"participant.label\",'participant._index_in_pages',\n",
    "       'participant._max_page_index', 'participant._current_app_name',\n",
    "       'participant._current_page_name', 'participant.time_started',\n",
    "       'participant.visited','participant.mturk_worker_id',\n",
    "       'participant.mturk_assignment_id', 'participant.payoff',\n",
    "       'participant.payoff_plus_participation_fee', 'session.code',\n",
    "       'session.label', 'session.mturk_HITId', 'session.mturk_HITGroupId',\n",
    "       'session.comment', 'session.is_demo',\n",
    "       'session.config.participation_fee',\n",
    "       'session.config.real_world_currency_per_point','bms_experiment.1.player.payoff','bms_experiment.2.player.payoff','bms_experiment.1.player.id_in_group',\n",
    "       'bms_experiment.1.player.trans_cond','bms_experiment.1.group.id_in_subsession',\n",
    "       'bms_experiment.1.subsession.round_number',\n",
    "       'bms_experiment.2.player.id_in_group',\n",
    "       'bms_experiment.2.player.trans_cond','bms_experiment.2.group.id_in_subsession',\n",
    "       'bms_experiment.2.subsession.round_number'], axis=1, inplace=True)"
   ]
  },
  {
   "cell_type": "code",
   "execution_count": 38,
   "metadata": {},
   "outputs": [
    {
     "data": {
      "text/plain": [
       "Index(['participant.id_in_session', 'bms_experiment.1.player.age',\n",
       "       'bms_experiment.1.player.gender', 'bms_experiment.1.player.installed',\n",
       "       'bms_experiment.1.player.competence',\n",
       "       'bms_experiment.1.player.competence_neg',\n",
       "       'bms_experiment.1.player.benevolence',\n",
       "       'bms_experiment.1.player.benevolence_neg',\n",
       "       'bms_experiment.1.player.no_central_entity',\n",
       "       'bms_experiment.1.player.no_central_entity_neg',\n",
       "       'bms_experiment.1.player.anonymity',\n",
       "       'bms_experiment.1.player.anonymity_neg',\n",
       "       'bms_experiment.1.player.no_tracking',\n",
       "       'bms_experiment.1.player.no_tracking_neg',\n",
       "       'bms_experiment.1.player.unlinkabilty',\n",
       "       'bms_experiment.1.player.unlinkabilty_neg',\n",
       "       'bms_experiment.1.player.understanding',\n",
       "       'bms_experiment.1.player.q1_a1', 'bms_experiment.1.player.q1_a2',\n",
       "       'bms_experiment.1.player.q1_a3', 'bms_experiment.1.player.q1_a4',\n",
       "       'bms_experiment.1.player.q1_a5', 'bms_experiment.1.player.q2_a1',\n",
       "       'bms_experiment.1.player.q2_a2', 'bms_experiment.1.player.q2_a3',\n",
       "       'bms_experiment.1.player.q2_a4', 'bms_experiment.1.player.q2_a5',\n",
       "       'bms_experiment.1.player.q3_a1', 'bms_experiment.1.player.q3_a2',\n",
       "       'bms_experiment.1.player.q3_a3', 'bms_experiment.1.player.q3_a4',\n",
       "       'bms_experiment.1.player.q3_a5', 'bms_experiment.1.player.q4_a1',\n",
       "       'bms_experiment.1.player.q4_a2', 'bms_experiment.1.player.q4_a3',\n",
       "       'bms_experiment.1.player.q4_a4', 'bms_experiment.1.player.q4_a5',\n",
       "       'bms_experiment.1.player.attentive_1',\n",
       "       'bms_experiment.1.player.attentive_2',\n",
       "       'bms_experiment.1.player.finished', 'bms_experiment.2.player.age',\n",
       "       'bms_experiment.2.player.gender', 'bms_experiment.2.player.installed',\n",
       "       'bms_experiment.2.player.competence',\n",
       "       'bms_experiment.2.player.competence_neg',\n",
       "       'bms_experiment.2.player.benevolence',\n",
       "       'bms_experiment.2.player.benevolence_neg',\n",
       "       'bms_experiment.2.player.no_central_entity',\n",
       "       'bms_experiment.2.player.no_central_entity_neg',\n",
       "       'bms_experiment.2.player.anonymity',\n",
       "       'bms_experiment.2.player.anonymity_neg',\n",
       "       'bms_experiment.2.player.no_tracking',\n",
       "       'bms_experiment.2.player.no_tracking_neg',\n",
       "       'bms_experiment.2.player.unlinkabilty',\n",
       "       'bms_experiment.2.player.unlinkabilty_neg',\n",
       "       'bms_experiment.2.player.understanding',\n",
       "       'bms_experiment.2.player.q1_a1', 'bms_experiment.2.player.q1_a2',\n",
       "       'bms_experiment.2.player.q1_a3', 'bms_experiment.2.player.q1_a4',\n",
       "       'bms_experiment.2.player.q1_a5', 'bms_experiment.2.player.q2_a1',\n",
       "       'bms_experiment.2.player.q2_a2', 'bms_experiment.2.player.q2_a3',\n",
       "       'bms_experiment.2.player.q2_a4', 'bms_experiment.2.player.q2_a5',\n",
       "       'bms_experiment.2.player.q3_a1', 'bms_experiment.2.player.q3_a2',\n",
       "       'bms_experiment.2.player.q3_a3', 'bms_experiment.2.player.q3_a4',\n",
       "       'bms_experiment.2.player.q3_a5', 'bms_experiment.2.player.q4_a1',\n",
       "       'bms_experiment.2.player.q4_a2', 'bms_experiment.2.player.q4_a3',\n",
       "       'bms_experiment.2.player.q4_a4', 'bms_experiment.2.player.q4_a5',\n",
       "       'bms_experiment.2.player.attentive_1',\n",
       "       'bms_experiment.2.player.attentive_2',\n",
       "       'bms_experiment.2.player.finished'],\n",
       "      dtype='object')"
      ]
     },
     "execution_count": 38,
     "metadata": {},
     "output_type": "execute_result"
    }
   ],
   "source": [
    "df.columns"
   ]
  },
  {
   "cell_type": "code",
   "execution_count": 39,
   "metadata": {},
   "outputs": [],
   "source": [
    "df['q1_r1']= 0\n",
    "df['q2_r1']= 0\n",
    "df['q3_r1']= 0\n",
    "df['q4_r1']= 0\n",
    "df['q1_r2']= 0\n",
    "df['q2_r2']= 0\n",
    "df['q3_r2']= 0\n",
    "df['q4_r2']= 0"
   ]
  },
  {
   "cell_type": "code",
   "execution_count": 40,
   "metadata": {},
   "outputs": [
    {
     "name": "stderr",
     "output_type": "stream",
     "text": [
      "/Users/julia/opt/anaconda3/lib/python3.7/site-packages/ipykernel_launcher.py:13: SettingWithCopyWarning: \n",
      "A value is trying to be set on a copy of a slice from a DataFrame\n",
      "\n",
      "See the caveats in the documentation: https://pandas.pydata.org/pandas-docs/stable/user_guide/indexing.html#returning-a-view-versus-a-copy\n",
      "  del sys.path[0]\n"
     ]
    }
   ],
   "source": [
    "solutions = [[0,0,1,0],[0,0,0,1],[1,0,0,1],[0,0,0,1]]\n",
    "\n",
    "for roundnumber in range(1,3):\n",
    "    for question in range(1,5):\n",
    "        for i in df.T:\n",
    "            question_score = 0\n",
    "            if df['bms_experiment.{0}.player.q{1}_a5'.format(roundnumber,question)][i] == 1: #i am not sure direkt 0\n",
    "                question_score = 0\n",
    "            else:\n",
    "                for answer in range(1,5):\n",
    "                    if df['bms_experiment.{0}.player.q{1}_a{2}'.format(roundnumber,question,answer)][i] == solutions[question-1][answer-1]:\n",
    "                        question_score = question_score + 1 \n",
    "            df['q{0}_r{1}'.format(question,roundnumber)][i]=question_score"
   ]
  },
  {
   "cell_type": "code",
   "execution_count": 41,
   "metadata": {
    "scrolled": true
   },
   "outputs": [
    {
     "data": {
      "text/plain": [
       "Index(['participant.id_in_session', 'bms_experiment.1.player.age',\n",
       "       'bms_experiment.1.player.gender', 'bms_experiment.1.player.installed',\n",
       "       'bms_experiment.1.player.competence',\n",
       "       'bms_experiment.1.player.competence_neg',\n",
       "       'bms_experiment.1.player.benevolence',\n",
       "       'bms_experiment.1.player.benevolence_neg',\n",
       "       'bms_experiment.1.player.no_central_entity',\n",
       "       'bms_experiment.1.player.no_central_entity_neg',\n",
       "       'bms_experiment.1.player.anonymity',\n",
       "       'bms_experiment.1.player.anonymity_neg',\n",
       "       'bms_experiment.1.player.no_tracking',\n",
       "       'bms_experiment.1.player.no_tracking_neg',\n",
       "       'bms_experiment.1.player.unlinkabilty',\n",
       "       'bms_experiment.1.player.unlinkabilty_neg',\n",
       "       'bms_experiment.1.player.understanding',\n",
       "       'bms_experiment.1.player.attentive_1',\n",
       "       'bms_experiment.1.player.attentive_2',\n",
       "       'bms_experiment.1.player.finished', 'bms_experiment.2.player.age',\n",
       "       'bms_experiment.2.player.gender', 'bms_experiment.2.player.installed',\n",
       "       'bms_experiment.2.player.competence',\n",
       "       'bms_experiment.2.player.competence_neg',\n",
       "       'bms_experiment.2.player.benevolence',\n",
       "       'bms_experiment.2.player.benevolence_neg',\n",
       "       'bms_experiment.2.player.no_central_entity',\n",
       "       'bms_experiment.2.player.no_central_entity_neg',\n",
       "       'bms_experiment.2.player.anonymity',\n",
       "       'bms_experiment.2.player.anonymity_neg',\n",
       "       'bms_experiment.2.player.no_tracking',\n",
       "       'bms_experiment.2.player.no_tracking_neg',\n",
       "       'bms_experiment.2.player.unlinkabilty',\n",
       "       'bms_experiment.2.player.unlinkabilty_neg',\n",
       "       'bms_experiment.2.player.understanding',\n",
       "       'bms_experiment.2.player.attentive_1',\n",
       "       'bms_experiment.2.player.attentive_2',\n",
       "       'bms_experiment.2.player.finished', 'q1_r1', 'q2_r1', 'q3_r1', 'q4_r1',\n",
       "       'q1_r2', 'q2_r2', 'q3_r2', 'q4_r2'],\n",
       "      dtype='object')"
      ]
     },
     "execution_count": 41,
     "metadata": {},
     "output_type": "execute_result"
    }
   ],
   "source": [
    "df.drop(['bms_experiment.1.player.q1_a1', 'bms_experiment.1.player.q1_a2',\n",
    "       'bms_experiment.1.player.q1_a3', 'bms_experiment.1.player.q1_a4',\n",
    "       'bms_experiment.1.player.q1_a5', 'bms_experiment.1.player.q2_a1',\n",
    "       'bms_experiment.1.player.q2_a2', 'bms_experiment.1.player.q2_a3',\n",
    "       'bms_experiment.1.player.q2_a4', 'bms_experiment.1.player.q2_a5',\n",
    "       'bms_experiment.1.player.q3_a1', 'bms_experiment.1.player.q3_a2',\n",
    "       'bms_experiment.1.player.q3_a3', 'bms_experiment.1.player.q3_a4',\n",
    "       'bms_experiment.1.player.q3_a5', 'bms_experiment.1.player.q4_a1',\n",
    "       'bms_experiment.1.player.q4_a2', 'bms_experiment.1.player.q4_a3',\n",
    "       'bms_experiment.1.player.q4_a4', 'bms_experiment.1.player.q4_a5',\n",
    "       'bms_experiment.2.player.q1_a1', 'bms_experiment.2.player.q1_a2',\n",
    "       'bms_experiment.2.player.q1_a3', 'bms_experiment.2.player.q1_a4',\n",
    "       'bms_experiment.2.player.q1_a5', 'bms_experiment.2.player.q2_a1',\n",
    "       'bms_experiment.2.player.q2_a2', 'bms_experiment.2.player.q2_a3',\n",
    "       'bms_experiment.2.player.q2_a4', 'bms_experiment.2.player.q2_a5',\n",
    "       'bms_experiment.2.player.q3_a1', 'bms_experiment.2.player.q3_a2',\n",
    "       'bms_experiment.2.player.q3_a3', 'bms_experiment.2.player.q3_a4',\n",
    "       'bms_experiment.2.player.q3_a5', 'bms_experiment.2.player.q4_a1',\n",
    "       'bms_experiment.2.player.q4_a2', 'bms_experiment.2.player.q4_a3',\n",
    "       'bms_experiment.2.player.q4_a4', 'bms_experiment.2.player.q4_a5',], axis=1, inplace=True)\n",
    "df.columns"
   ]
  },
  {
   "cell_type": "code",
   "execution_count": null,
   "metadata": {},
   "outputs": [],
   "source": [
    "df['invertedCheck']= True\n",
    "for roundnumber in range(1,3):\n",
    "    for trustAspect in ['competence','benevolence','no_central_entity','anonymity','no_tracking','unlinkabilty']:\n",
    "        if ((((df['bms_experiment.{0}.player.{1}'.format(roundnumber,trustAspect)][1]+df['bms_experiment.{0}.player.{1}_neg'.format(roundnumber,trustAspect)][1])/2) < 2) | (((df['bms_experiment.{0}.player.{1}'.format(roundnumber,trustAspect)][1]+df['bms_experiment.{0}.player.{1}_neg'.format(roundnumber,trustAspect)][1])/2) > 5))"
   ]
  },
  {
   "cell_type": "code",
   "execution_count": 9,
   "metadata": {},
   "outputs": [
    {
     "name": "stdout",
     "output_type": "stream",
     "text": [
      "3\n"
     ]
    },
    {
     "name": "stderr",
     "output_type": "stream",
     "text": [
      "/Users/julia/opt/anaconda3/lib/python3.7/site-packages/ipykernel_launcher.py:13: SettingWithCopyWarning: \n",
      "A value is trying to be set on a copy of a slice from a DataFrame\n",
      "\n",
      "See the caveats in the documentation: https://pandas.pydata.org/pandas-docs/stable/user_guide/indexing.html#returning-a-view-versus-a-copy\n",
      "  del sys.path[0]\n"
     ]
    }
   ],
   "source": [
    "q1 = 0\n",
    "if df['bms_experiment.1.player.q1_a5'][4] == 1:\n",
    "        q1 = 0\n",
    "else:\n",
    "        if df['bms_experiment.1.player.q1_a1'][4] == 0:\n",
    "            q1 = q1 + 1\n",
    "        if df['bms_experiment.1.player.q1_a2'][4] == 0:\n",
    "            q1 = q1 + 1\n",
    "        if df['bms_experiment.1.player.q1_a3'][4] == 1:\n",
    "            q1 = q1 + 1\n",
    "        if df['bms_experiment.1.player.q1_a4'][4] == 0:\n",
    "            q1 = q1 + 1\n",
    "df['q1_score'][i]=q1\n",
    "print(df['q1_score'][4])"
   ]
  },
  {
   "cell_type": "code",
   "execution_count": 34,
   "metadata": {
    "scrolled": true
   },
   "outputs": [
    {
     "data": {
      "text/plain": [
       "0        1\n",
       "1        2\n",
       "2        3\n",
       "3        4\n",
       "4        5\n",
       "      ... \n",
       "295    296\n",
       "296    297\n",
       "297    298\n",
       "298    299\n",
       "299    300\n",
       "Name: participant.id_in_session, Length: 300, dtype: int64"
      ]
     },
     "execution_count": 34,
     "metadata": {},
     "output_type": "execute_result"
    }
   ],
   "source": [
    "df['participant.id_in_session']"
   ]
  },
  {
   "cell_type": "code",
   "execution_count": 48,
   "metadata": {},
   "outputs": [
    {
     "data": {
      "text/plain": [
       "0      0\n",
       "1      4\n",
       "2      0\n",
       "3      0\n",
       "4      1\n",
       "      ..\n",
       "295    0\n",
       "296    0\n",
       "297    0\n",
       "298    0\n",
       "299    0\n",
       "Name: q4_r1, Length: 300, dtype: int64"
      ]
     },
     "execution_count": 48,
     "metadata": {},
     "output_type": "execute_result"
    }
   ],
   "source": [
    "df['q4_r1']"
   ]
  },
  {
   "cell_type": "code",
   "execution_count": null,
   "metadata": {},
   "outputs": [],
   "source": []
  }
 ],
 "metadata": {
  "kernelspec": {
   "display_name": "Python 3",
   "language": "python",
   "name": "python3"
  },
  "language_info": {
   "codemirror_mode": {
    "name": "ipython",
    "version": 3
   },
   "file_extension": ".py",
   "mimetype": "text/x-python",
   "name": "python",
   "nbconvert_exporter": "python",
   "pygments_lexer": "ipython3",
   "version": "3.7.7"
  }
 },
 "nbformat": 4,
 "nbformat_minor": 4
}
