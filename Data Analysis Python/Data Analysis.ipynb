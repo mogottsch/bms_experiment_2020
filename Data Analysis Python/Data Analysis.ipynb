{
 "cells": [
  {
   "cell_type": "markdown",
   "metadata": {},
   "source": [
    "### Imports"
   ]
  },
  {
   "cell_type": "code",
   "execution_count": 1,
   "metadata": {},
   "outputs": [],
   "source": [
    "import pandas as pd\n",
    "import numpy as np\n",
    "import statsmodels.api as sm\n",
    "import statsmodels.formula.api as smf\n",
    "from scipy import stats\n",
    "import matplotlib.pyplot as plt\n",
    "import seaborn as sns"
   ]
  },
  {
   "cell_type": "code",
   "execution_count": 2,
   "metadata": {},
   "outputs": [],
   "source": [
    "# we copy and mutate dataframes, which causes warnings, however we are aware of this\n",
    "import warnings\n",
    "warnings.filterwarnings('ignore')"
   ]
  },
  {
   "cell_type": "markdown",
   "metadata": {},
   "source": [
    "For this analysis we use data, which we exported from our otree server.  \n",
    "The data was collected from the 21.08.2020 to the 28.08.2020 12:00.  \n",
    " \n",
    "We start by loading that data into a dataframe from pandas."
   ]
  },
  {
   "cell_type": "code",
   "execution_count": 3,
   "metadata": {},
   "outputs": [],
   "source": [
    "df = pd.read_csv(\"data28aug12uhr.csv\")"
   ]
  },
  {
   "cell_type": "markdown",
   "metadata": {},
   "source": [
    "# Data Preparation"
   ]
  },
  {
   "cell_type": "markdown",
   "metadata": {},
   "source": [
    "First we rename the most important data columns."
   ]
  },
  {
   "cell_type": "code",
   "execution_count": 4,
   "metadata": {},
   "outputs": [],
   "source": [
    "df['id']=df['participant.id_in_session']\n",
    "df['group']=df['bms_experiment.1.player.trans_cond']\n",
    "df['age']=df['bms_experiment.1.player.age']\n",
    "df['gender']=df['bms_experiment.1.player.gender']\n",
    "df['installed']=df['bms_experiment.1.player.installed']\n",
    "df['per_und_r1']=df['bms_experiment.1.player.understanding']\n",
    "df['per_und_r2']=df['bms_experiment.2.player.understanding']\n",
    "df['color_try1']=df['bms_experiment.1.player.attentive_1']\n",
    "df['color_try2']=df['bms_experiment.1.player.attentive_2']\n",
    "df['finished']=((df['bms_experiment.1.player.finished'] == 1.0) | (df['bms_experiment.2.player.finished'] == 1.0) )"
   ]
  },
  {
   "cell_type": "markdown",
   "metadata": {},
   "source": [
    "We sort out all participants who did not finish the whole survey."
   ]
  },
  {
   "cell_type": "code",
   "execution_count": 5,
   "metadata": {},
   "outputs": [],
   "source": [
    "df = df[df['participant._current_app_name'] == 'bms_experiment']"
   ]
  },
  {
   "cell_type": "code",
   "execution_count": 6,
   "metadata": {},
   "outputs": [
    {
     "name": "stdout",
     "output_type": "stream",
     "text": [
      "total number of participants:  178\n"
     ]
    }
   ],
   "source": [
    "print('total number of participants: ', len(df))"
   ]
  },
  {
   "cell_type": "code",
   "execution_count": 7,
   "metadata": {},
   "outputs": [],
   "source": [
    "df = df[df['finished'] == True] "
   ]
  },
  {
   "cell_type": "code",
   "execution_count": 8,
   "metadata": {},
   "outputs": [
    {
     "name": "stdout",
     "output_type": "stream",
     "text": [
      "total number of finished participants:  80\n"
     ]
    }
   ],
   "source": [
    "print('total number of finished participants: ', len(df))"
   ]
  },
  {
   "cell_type": "markdown",
   "metadata": {},
   "source": [
    "### Actual Understanding Calculation\n",
    "Here we calculate the actual understanding, which is determined by four multiple-choice-questions.  \n",
    "The participants will get one point per possible answer, if they answered according to the solution. This leads to four possible points per question with four questions in total.  \n",
    "There also was the possibility to answer with \"I don't know\". If this is the case the participant will automatically get zero points for the question, regardless the other answers."
   ]
  },
  {
   "cell_type": "code",
   "execution_count": 9,
   "metadata": {},
   "outputs": [],
   "source": [
    "# initialize columns for each question\n",
    "\n",
    "# round 1\n",
    "df['q1_r1']= 0\n",
    "df['q2_r1']= 0\n",
    "df['q3_r1']= 0\n",
    "df['q4_r1']= 0\n",
    "\n",
    "#round 2\n",
    "df['q1_r2']= 0\n",
    "df['q2_r2']= 0\n",
    "df['q3_r2']= 0\n",
    "df['q4_r2']= 0\n",
    "\n",
    "# 1 => answer is correct\n",
    "# 0 => answer is wrong\n",
    "solutions = [[0,0,1,0],[0,0,0,1],[1,0,0,1],[0,0,0,1]]\n",
    "\n",
    "# we iterate through all rounds (1 & 2) and all questions (1 - 4)\n",
    "for roundnumber in range(1,3):\n",
    "    for question in range(1,5):\n",
    "        for i in df.T:\n",
    "            question_score = 0\n",
    "            # if the participants answered \"I don't know, we set the question_score to zero\"\n",
    "            if df['bms_experiment.{0}.player.q{1}_a5'.format(roundnumber,question)][i] == 1:\n",
    "                question_score = 0\n",
    "            else:\n",
    "                # we iterate through all possible answers and increase the question score by one for each correct question\n",
    "                for answer in range(1,5):\n",
    "                    if df['bms_experiment.{0}.player.q{1}_a{2}'.format(roundnumber,question,answer)][i] == solutions[question-1][answer-1]:\n",
    "                        question_score = question_score + 1 \n",
    "                # after calculating the question score we set it accordingly in the dataframe \n",
    "                df['q{0}_r{1}'.format(question,roundnumber)][i]=question_score"
   ]
  },
  {
   "cell_type": "markdown",
   "metadata": {},
   "source": [
    "### Check for consistency in inverted questions\n",
    "All of our trust questions also have an inverted form. We did this to be aware of people, who simply answer the survey randomly.  \n",
    "Here we set a column called \"invertedCheck\" to False if the participant answered strongly contradictory.  \n",
    "By strongly contradictory we mean that the participant answered \"Fully agree\" to both the original as well as the negated question. \n",
    "Technically this means that the participant answered 5 to both questions. We calculate the invertedCheck by calculating the average of both answers. If this average is equal to 1 or 5, this means that the participant answered strongly contradictory."
   ]
  },
  {
   "cell_type": "code",
   "execution_count": 10,
   "metadata": {
    "scrolled": true
   },
   "outputs": [],
   "source": [
    "# initialize column for invertedCheck\n",
    "df['invertedCheck'] = True\n",
    "\n",
    "# iterate through each round and each trust aspect\n",
    "for roundnumber in range(1,3):\n",
    "    for trustAspect in ['competence','benevolence','no_central_entity','anonymity','no_tracking','unlinkabilty']:\n",
    "        for i in df.T:\n",
    "            if (((df['bms_experiment.{0}.player.{1}'.format(roundnumber, trustAspect)][i] +\n",
    "                  df['bms_experiment.{0}.player.{1}_neg'.format(roundnumber, trustAspect)][i]) / 2) < 2) | \\\n",
    "                    (((df['bms_experiment.{0}.player.{1}'.format(roundnumber, trustAspect)][i] +\n",
    "                       df['bms_experiment.{0}.player.{1}_neg'.format(roundnumber, trustAspect)][i]) / 2) > 4):\n",
    "                df['invertedCheck'][i]= False"
   ]
  },
  {
   "cell_type": "markdown",
   "metadata": {},
   "source": [
    "### Calculate trust\n",
    "Here we calculate trust values for competence and benevolence, as well as the subaspects of integrity.  \n",
    "For each value we have exactly one question and one negated question. We calculate the corresponding value through the average of the answer to the original question and the negated question. Before doing that we invert the answer to the negated question. This means that if the answer to the negated question is 5, we change it 1. (5->1, 4->2, 3->3, ...)"
   ]
  },
  {
   "cell_type": "code",
   "execution_count": 11,
   "metadata": {},
   "outputs": [],
   "source": [
    "# iterate through each round and each trust aspect\n",
    "for roundnumber in range(1,3):\n",
    "    for trustAspect in ['competence','benevolence','no_central_entity','anonymity','no_tracking','unlinkabilty']:\n",
    "        df['{0}_r{1}'.format(trustAspect,roundnumber)]= 100 #column erstellen\n",
    "        for i in df.T:\n",
    "            aspect = df['bms_experiment.{0}.player.{1}'.format(roundnumber,trustAspect)][i]\n",
    "            # invert the negated question\n",
    "            aspect_neg_inverted = abs(df['bms_experiment.{0}.player.{1}_neg'.format(roundnumber,trustAspect)][i]-6)\n",
    "            # calculate question and save to dataframe\n",
    "            df['{0}_r{1}'.format(trustAspect,roundnumber)][i] = (aspect + aspect_neg_inverted)/2.0\n"
   ]
  },
  {
   "cell_type": "markdown",
   "metadata": {},
   "source": [
    "### Drop all irrelevant columns"
   ]
  },
  {
   "cell_type": "code",
   "execution_count": 12,
   "metadata": {},
   "outputs": [],
   "source": [
    "df.drop(['participant.id_in_session', 'bms_experiment.1.player.trans_cond',\n",
    "       'bms_experiment.1.player.age', 'bms_experiment.1.player.gender',\n",
    "       'bms_experiment.1.player.installed',\n",
    "       'bms_experiment.1.player.understanding',\n",
    "       'bms_experiment.1.player.attentive_1',\n",
    "       'bms_experiment.1.player.attentive_2',\n",
    "       'bms_experiment.1.player.finished',\n",
    "       'bms_experiment.2.player.understanding',\n",
    "       'bms_experiment.2.player.finished',\n",
    "       'participant._is_bot','participant.code','participant.label','participant._index_in_pages',\n",
    "       'participant._max_page_index', 'participant._current_app_name',\n",
    "       'participant._current_page_name', 'participant.time_started',\n",
    "       'participant.visited','participant.mturk_worker_id',\n",
    "       'participant.mturk_assignment_id', 'participant.payoff',\n",
    "       'participant.payoff_plus_participation_fee', 'session.code',\n",
    "       'session.label', 'session.mturk_HITId', 'session.mturk_HITGroupId',\n",
    "       'session.comment', 'session.is_demo',\n",
    "       'session.config.participation_fee',\n",
    "       'session.config.real_world_currency_per_point','bms_experiment.1.player.payoff','bms_experiment.2.player.payoff','bms_experiment.1.player.id_in_group',\n",
    "       'bms_experiment.1.group.id_in_subsession',\n",
    "       'bms_experiment.1.subsession.round_number',\n",
    "       'bms_experiment.2.player.id_in_group',\n",
    "       'bms_experiment.2.player.trans_cond','bms_experiment.2.group.id_in_subsession',\n",
    "       'bms_experiment.2.subsession.round_number','bms_experiment.2.player.age',\n",
    "       'bms_experiment.2.player.gender', 'bms_experiment.2.player.installed',\n",
    "       'bms_experiment.2.player.attentive_1',\n",
    "       'bms_experiment.2.player.attentive_2',\n",
    "       'bms_experiment.1.player.q1_a1', 'bms_experiment.1.player.q1_a2',\n",
    "       'bms_experiment.1.player.q1_a3', 'bms_experiment.1.player.q1_a4',\n",
    "       'bms_experiment.1.player.q1_a5', 'bms_experiment.1.player.q2_a1',\n",
    "       'bms_experiment.1.player.q2_a2', 'bms_experiment.1.player.q2_a3',\n",
    "       'bms_experiment.1.player.q2_a4', 'bms_experiment.1.player.q2_a5',\n",
    "       'bms_experiment.1.player.q3_a1', 'bms_experiment.1.player.q3_a2',\n",
    "       'bms_experiment.1.player.q3_a3', 'bms_experiment.1.player.q3_a4',\n",
    "       'bms_experiment.1.player.q3_a5', 'bms_experiment.1.player.q4_a1',\n",
    "       'bms_experiment.1.player.q4_a2', 'bms_experiment.1.player.q4_a3',\n",
    "       'bms_experiment.1.player.q4_a4', 'bms_experiment.1.player.q4_a5',\n",
    "       'bms_experiment.2.player.q1_a1', 'bms_experiment.2.player.q1_a2',\n",
    "       'bms_experiment.2.player.q1_a3', 'bms_experiment.2.player.q1_a4',\n",
    "       'bms_experiment.2.player.q1_a5', 'bms_experiment.2.player.q2_a1',\n",
    "       'bms_experiment.2.player.q2_a2', 'bms_experiment.2.player.q2_a3',\n",
    "       'bms_experiment.2.player.q2_a4', 'bms_experiment.2.player.q2_a5',\n",
    "       'bms_experiment.2.player.q3_a1', 'bms_experiment.2.player.q3_a2',\n",
    "       'bms_experiment.2.player.q3_a3', 'bms_experiment.2.player.q3_a4',\n",
    "       'bms_experiment.2.player.q3_a5', 'bms_experiment.2.player.q4_a1',\n",
    "       'bms_experiment.2.player.q4_a2', 'bms_experiment.2.player.q4_a3',\n",
    "       'bms_experiment.2.player.q4_a4', 'bms_experiment.2.player.q4_a5',\n",
    "       'bms_experiment.1.player.competence',\n",
    "       'bms_experiment.1.player.competence_neg',\n",
    "       'bms_experiment.1.player.benevolence',\n",
    "       'bms_experiment.1.player.benevolence_neg',\n",
    "       'bms_experiment.1.player.no_central_entity',\n",
    "       'bms_experiment.1.player.no_central_entity_neg',\n",
    "       'bms_experiment.1.player.anonymity',\n",
    "       'bms_experiment.1.player.anonymity_neg',\n",
    "       'bms_experiment.1.player.no_tracking',\n",
    "       'bms_experiment.1.player.no_tracking_neg',\n",
    "       'bms_experiment.1.player.unlinkabilty',\n",
    "       'bms_experiment.1.player.unlinkabilty_neg',\n",
    "        'bms_experiment.2.player.competence',\n",
    "       'bms_experiment.2.player.competence_neg',\n",
    "       'bms_experiment.2.player.benevolence',\n",
    "       'bms_experiment.2.player.benevolence_neg',\n",
    "       'bms_experiment.2.player.no_central_entity',\n",
    "       'bms_experiment.2.player.no_central_entity_neg',\n",
    "       'bms_experiment.2.player.anonymity',\n",
    "       'bms_experiment.2.player.anonymity_neg',\n",
    "       'bms_experiment.2.player.no_tracking',\n",
    "       'bms_experiment.2.player.no_tracking_neg',\n",
    "       'bms_experiment.2.player.unlinkabilty',\n",
    "       'bms_experiment.2.player.unlinkabilty_neg',], axis=1, inplace=True)"
   ]
  },
  {
   "cell_type": "markdown",
   "metadata": {},
   "source": [
    "### Color check\n",
    "In our survey we added a simple piece of information in the text. It said \"The color is yellow\".  \n",
    "After the participants read that text, they had to replicate this information. If they failed the first time, they were asked to read the text again and had another chance to replicate. If they failed a second time we will sort them out.  \n",
    "The control group had no text and thereby they never failed this test."
   ]
  },
  {
   "cell_type": "code",
   "execution_count": 13,
   "metadata": {},
   "outputs": [],
   "source": [
    "df['color_check'] = (df['group'] == 'no') | ( # set to true if group is control group\n",
    "            (df['group'] != 'no') & ((df['color_try1'] == 'yellow') | (df['color_try2'] == 'yellow'))) # set to true if participant answered correctly"
   ]
  },
  {
   "cell_type": "code",
   "execution_count": 14,
   "metadata": {},
   "outputs": [],
   "source": [
    "df_new = df"
   ]
  },
  {
   "cell_type": "markdown",
   "metadata": {},
   "source": [
    "## Aggregation of values"
   ]
  },
  {
   "cell_type": "markdown",
   "metadata": {},
   "source": [
    "### Calculation of actual understanding and integrity\n",
    "We calculate the actual understanding (in both rounds) through the average the points for each question.  \n",
    "Integrity will also be calculated through the average of each subaspect."
   ]
  },
  {
   "cell_type": "code",
   "execution_count": 15,
   "metadata": {},
   "outputs": [],
   "source": [
    "df_new['act_und_r1']=(df_new['q1_r1']+df_new['q2_r1']+df_new['q3_r1']+df_new['q4_r1'])/4\n",
    "df_new['act_und_r2']=(df_new['q1_r2']+df_new['q2_r2']+df_new['q3_r2']+df_new['q4_r2'])/4\n",
    "df_new['integrity_r1']=(df_new['no_central_entity_r1']+df_new['anonymity_r1']+df_new['no_tracking_r1']+df_new['unlinkabilty_r1'])/4\n",
    "df_new['integrity_r2']=(df_new['no_central_entity_r2']+df_new['anonymity_r2']+df_new['no_tracking_r2']+df_new['unlinkabilty_r2'])/4\n",
    "\n",
    "# drop the columns which were used for calculation\n",
    "df_new.drop(['q1_r1','q2_r1', 'q3_r1', 'q4_r1', 'q1_r2', 'q2_r2', 'q3_r2', 'q4_r2',\n",
    "        'no_central_entity_r1', 'anonymity_r1', 'no_tracking_r1','unlinkabilty_r1',\n",
    "        'no_central_entity_r2', 'anonymity_r2', 'no_tracking_r2',\n",
    "       'unlinkabilty_r2'], axis=1, inplace=True)"
   ]
  },
  {
   "cell_type": "markdown",
   "metadata": {},
   "source": [
    "### Calculation of trust\n",
    "We calculate trust through the average of competence, benevolence and integrity."
   ]
  },
  {
   "cell_type": "code",
   "execution_count": 16,
   "metadata": {
    "scrolled": true
   },
   "outputs": [],
   "source": [
    "# we create new columns in which we can store trust aspects for both groups\n",
    "df_new['competence']=0\n",
    "df_new['benevolence']=0\n",
    "df_new['integrity']=0\n",
    "\n",
    "for i in df_new.T:\n",
    "    if df_new['group'][i] == 'no':\n",
    "        df_new['competence'][i]=df_new['competence_r1'][i]\n",
    "        df_new['benevolence'][i]=df_new['benevolence_r1'][i]\n",
    "        df_new['integrity'][i]=df_new['integrity_r1'][i]\n",
    "    else:\n",
    "        df_new['competence'][i]=df_new['competence_r2'][i]\n",
    "        df_new['benevolence'][i]=df_new['benevolence_r2'][i]\n",
    "        df_new['integrity'][i]=df_new['integrity_r2'][i]\n",
    "        \n",
    "\n",
    "df_new['trust']=(df_new['competence']+df_new['benevolence']+df_new['integrity'])/3\n",
    "\n",
    "# drop the columns used for calculation\n",
    "df_new.drop(['competence_r1', 'benevolence_r1', 'competence_r2', 'benevolence_r2','integrity_r1', 'integrity_r2'], axis=1, inplace=True)"
   ]
  },
  {
   "cell_type": "code",
   "execution_count": 17,
   "metadata": {},
   "outputs": [
    {
     "name": "stdout",
     "output_type": "stream",
     "text": [
      "total number of participants: 80\n",
      "      failed the color check: 7\n",
      "    \n",
      "number of valid participants: 73\n",
      "\n"
     ]
    }
   ],
   "source": [
    "total = df_new['id'].count()\n",
    "failed_color = df_new[df_new['color_check']==False]['id'].count()\n",
    "valid = total-failed_color\n",
    "print(\"\"\"total number of participants: {}\n",
    "      failed the color check: {}\n",
    "    \n",
    "number of valid participants: {}\n",
    "\"\"\".format(total, failed_color, valid))"
   ]
  },
  {
   "cell_type": "markdown",
   "metadata": {},
   "source": [
    "# Data Analysis\n",
    "First we take a look at some basic information about our participants."
   ]
  },
  {
   "cell_type": "code",
   "execution_count": 18,
   "metadata": {},
   "outputs": [
    {
     "name": "stdout",
     "output_type": "stream",
     "text": [
      "average age:\n",
      "~25.77\n",
      "\n",
      "percentage of participants, who have the app installed:\n",
      "80.00%\n",
      "\n",
      "female:  43.75%\n",
      "male:    56.25%\n",
      "diverse: 0.00%\n",
      "\n"
     ]
    }
   ],
   "source": [
    "num_female = df_new[df_new['gender'] == 0]['id'].count()\n",
    "num_male = df_new[df_new['gender'] == 1]['id'].count()\n",
    "num_diverse = df_new[df_new['gender'] == 2]['id'].count()\n",
    "\n",
    "print(\"\"\"average age:\n",
    "~{:.2f}\n",
    "\n",
    "percentage of participants, who have the app installed:\n",
    "{:.2f}%\n",
    "\n",
    "female:  {:.2f}%\n",
    "male:    {:.2f}%\n",
    "diverse: {:.2f}%\n",
    "\"\"\".format(df_new['age'].mean(),\n",
    "           df_new['installed'].mean()*100,\n",
    "           num_female/total*100,\n",
    "           num_male/total*100,\n",
    "           num_diverse/total*100\n",
    "          ))"
   ]
  },
  {
   "cell_type": "code",
   "execution_count": 19,
   "metadata": {},
   "outputs": [],
   "source": [
    "df_clean = df_new"
   ]
  },
  {
   "cell_type": "markdown",
   "metadata": {},
   "source": [
    "### Check for bias"
   ]
  },
  {
   "cell_type": "code",
   "execution_count": 20,
   "metadata": {},
   "outputs": [
    {
     "name": "stdout",
     "output_type": "stream",
     "text": [
      "Mean actual understanding of participants at the start of the experiment in the...\n",
      "... control group:    ~2.9310\n",
      "... brief group:    ~2.8173\n",
      "... detailed group:    ~2.9600\n",
      "\n",
      "\n"
     ]
    }
   ],
   "source": [
    "tr_no = df_clean.loc[df_clean['group']=='no']['act_und_r1']\n",
    "tr_brief = df_clean.loc[df_clean['group']=='brief']['act_und_r1']\n",
    "tr_detail = df_clean.loc[df_clean['group']=='detailed']['act_und_r1']\n",
    "\n",
    "print(\"\"\"Mean actual understanding of participants at the start of the experiment in the...\n",
    "... control group:    ~{:.4f}\n",
    "... brief group:    ~{:.4f}\n",
    "... detailed group:    ~{:.4f}\n",
    "\n",
    "\"\"\".format(np.mean(tr_no), np.mean(tr_brief), np.mean(tr_detail)))"
   ]
  },
  {
   "cell_type": "code",
   "execution_count": 21,
   "metadata": {},
   "outputs": [
    {
     "name": "stdout",
     "output_type": "stream",
     "text": [
      "control group vs. brief group \n",
      " MannwhitneyuResult(statistic=408.5, pvalue=0.5992136527033531)\n"
     ]
    }
   ],
   "source": [
    "MWU=stats.mannwhitneyu(tr_no,tr_brief,alternative='two-sided')\n",
    "print(\"control group vs. brief group \\n\", MWU)"
   ]
  },
  {
   "cell_type": "code",
   "execution_count": 22,
   "metadata": {},
   "outputs": [
    {
     "name": "stdout",
     "output_type": "stream",
     "text": [
      "control group vs. detail group \n",
      " MannwhitneyuResult(statistic=344.0, pvalue=0.7533341308129086)\n"
     ]
    }
   ],
   "source": [
    "MWU=stats.mannwhitneyu(tr_no,tr_detail,alternative='two-sided')\n",
    "print(\"control group vs. detail group \\n\", MWU)"
   ]
  },
  {
   "cell_type": "code",
   "execution_count": 23,
   "metadata": {},
   "outputs": [
    {
     "name": "stdout",
     "output_type": "stream",
     "text": [
      "brief group vs. detail group \n",
      " MannwhitneyuResult(statistic=280.5, pvalue=0.40362502551540647)\n"
     ]
    }
   ],
   "source": [
    "MWU=stats.mannwhitneyu(tr_brief,tr_detail,alternative='two-sided')\n",
    "print(\"brief group vs. detail group \\n\", MWU)"
   ]
  },
  {
   "cell_type": "markdown",
   "metadata": {},
   "source": [
    "Eventhough there are differences in the mean of the actual understanding at the begin of the experiment between the different groups. However, these differences are not statistically significant."
   ]
  },
  {
   "cell_type": "markdown",
   "metadata": {},
   "source": [
    "### [H1] Users will have a better understanding of the system when provided with an explanation of its   functionality.\n",
    "#### Control vs Treatment\n",
    "##### Actual Understanding\n",
    "We retrieve the actual understanding of the control group and the actual understanding of the treatment groups after the treatment. After that we will check if there is a statistically significant difference between the control group and the first treatment group as well as the control group and the second treatment group."
   ]
  },
  {
   "cell_type": "code",
   "execution_count": 24,
   "metadata": {},
   "outputs": [
    {
     "name": "stdout",
     "output_type": "stream",
     "text": [
      "Number of participants in the...\n",
      "... control group:    29\n",
      "... 'brief' group:    26\n",
      "... 'detailed' group: 26\n",
      "\n",
      "Mean actual understanding of participants in the...\n",
      "... control group:    ~2.9310\n",
      "... 'brief' group:    ~3.2308\n",
      "... 'detailed' group: ~3.2800\n",
      "\n",
      "\n"
     ]
    }
   ],
   "source": [
    "tr1=df_clean.loc[df_clean['group']=='no']['act_und_r1']\n",
    "tr2=df_clean.loc[df_clean['group']=='brief']['act_und_r2']\n",
    "tr3=df_clean.loc[df_clean['group']=='detailed']['act_und_r2']\n",
    "\n",
    "print(\"\"\"Number of participants in the...\n",
    "... control group:    {}\n",
    "... 'brief' group:    {}\n",
    "... 'detailed' group: {}\n",
    "\n",
    "Mean actual understanding of participants in the...\n",
    "... control group:    ~{:.4f}\n",
    "... 'brief' group:    ~{:.4f}\n",
    "... 'detailed' group: ~{:.4f}\n",
    "\n",
    "\"\"\".format(len(tr1), len(tr2), len(tr2),\n",
    "          np.mean(tr1), np.mean(tr2), np.mean(tr3)\n",
    "          ))"
   ]
  },
  {
   "cell_type": "markdown",
   "metadata": {},
   "source": [
    "Now we run a MWU-Test, because it is non-parametric."
   ]
  },
  {
   "cell_type": "code",
   "execution_count": 25,
   "metadata": {},
   "outputs": [
    {
     "name": "stdout",
     "output_type": "stream",
     "text": [
      "control group vs. 'brief' group \n",
      " MannwhitneyuResult(statistic=294.0, pvalue=0.16083921426079806)\n",
      "\n",
      "control group vs. 'detailed' group \n",
      " MannwhitneyuResult(statistic=273.0, pvalue=0.11805230895032581)\n"
     ]
    }
   ],
   "source": [
    "MWU=stats.mannwhitneyu(tr1,tr2,alternative='two-sided')\n",
    "print(\"control group vs. 'brief' group \\n\", MWU)\n",
    "print(\"\")\n",
    "MWU=stats.mannwhitneyu(tr1,tr3,alternative='two-sided')\n",
    "print(\"control group vs. 'detailed' group \\n\", MWU)"
   ]
  },
  {
   "cell_type": "markdown",
   "metadata": {},
   "source": [
    "##### Perceived Understanding\n",
    "We repeat the process for perceived understanding"
   ]
  },
  {
   "cell_type": "code",
   "execution_count": 26,
   "metadata": {},
   "outputs": [
    {
     "name": "stdout",
     "output_type": "stream",
     "text": [
      "\n",
      "Mean perceived understanding of participants in the...\n",
      "... control group:    ~3.5172\n",
      "... 'brief' group:    ~3.6923\n",
      "... 'detailed' group: ~4.0000\n",
      "\n",
      "\n",
      "control group vs. 'brief' group \n",
      " MannwhitneyuResult(statistic=294.0, pvalue=0.16083921426079806)\n",
      "\n",
      "control group vs. 'detailed' group \n",
      " MannwhitneyuResult(statistic=273.0, pvalue=0.11805230895032581)\n"
     ]
    }
   ],
   "source": [
    "ptr1=df_clean.loc[df_clean['group']=='no']['per_und_r1']\n",
    "ptr2=df_clean.loc[df_clean['group']=='brief']['per_und_r2']\n",
    "ptr3=df_clean.loc[df_clean['group']=='detailed']['per_und_r2']\n",
    "\n",
    "print(\"\"\"\n",
    "Mean perceived understanding of participants in the...\n",
    "... control group:    ~{:.4f}\n",
    "... 'brief' group:    ~{:.4f}\n",
    "... 'detailed' group: ~{:.4f}\n",
    "\n",
    "\"\"\".format(np.mean(ptr1), np.mean(ptr2), np.mean(ptr3)))\n",
    "\n",
    "MWU=stats.mannwhitneyu(tr1,tr2,alternative='two-sided')\n",
    "print(\"control group vs. 'brief' group \\n\", MWU)\n",
    "print(\"\")\n",
    "MWU=stats.mannwhitneyu(tr1,tr3,alternative='two-sided')\n",
    "print(\"control group vs. 'detailed' group \\n\", MWU)"
   ]
  },
  {
   "cell_type": "markdown",
   "metadata": {},
   "source": [
    "#### Treatment before vs after\n",
    "We can also compare the trust inside the treatment groups, because we collected data on understanding before the texts and after the texts.\n",
    "##### Actual Understanding"
   ]
  },
  {
   "cell_type": "code",
   "execution_count": 27,
   "metadata": {},
   "outputs": [
    {
     "name": "stdout",
     "output_type": "stream",
     "text": [
      "\n",
      "Mean actual understanding of participants...\n",
      "... before the treatment:    ~2.8873\n",
      "... after the treatment:     ~3.2549\n",
      "\n",
      "\n"
     ]
    }
   ],
   "source": [
    "before=df_clean.loc[(df_clean['group']=='brief') | (df_clean['group']=='detailed')]['act_und_r1']\n",
    "after=df_clean.loc[(df_clean['group']=='brief') | (df_clean['group']=='detailed')]['act_und_r2']\n",
    "\n",
    "print(\"\"\"\n",
    "Mean actual understanding of participants...\n",
    "... before the treatment:    ~{:.4f}\n",
    "... after the treatment:     ~{:.4f}\n",
    "\n",
    "\"\"\".format(np.mean(before), np.mean(after)))"
   ]
  },
  {
   "cell_type": "code",
   "execution_count": 28,
   "metadata": {},
   "outputs": [
    {
     "name": "stdout",
     "output_type": "stream",
     "text": [
      "before treatment vs. after treatment \n",
      " MannwhitneyuResult(statistic=976.5, pvalue=0.028734974440313095)\n"
     ]
    }
   ],
   "source": [
    "#comparing actual understanding before and after reading the text\n",
    "MWU=stats.mannwhitneyu(before,after,alternative='two-sided') #MWU Test, non-parametic for independent samples\n",
    "print(\"before treatment vs. after treatment \\n\", MWU)"
   ]
  },
  {
   "cell_type": "markdown",
   "metadata": {},
   "source": [
    "##### Perceived Understanding"
   ]
  },
  {
   "cell_type": "code",
   "execution_count": 29,
   "metadata": {},
   "outputs": [
    {
     "name": "stdout",
     "output_type": "stream",
     "text": [
      "\n",
      "Mean actual understanding of participants...\n",
      "... before the treatment:    ~3.5882\n",
      "... after the treatment:     ~3.8431\n",
      "\n",
      "\n"
     ]
    }
   ],
   "source": [
    "before=df_clean.loc[(df_clean['group']=='brief') | (df_clean['group']=='detailed')]['per_und_r1']\n",
    "after=df_clean.loc[(df_clean['group']=='brief') | (df_clean['group']=='detailed')]['per_und_r2']\n",
    "\n",
    "print(\"\"\"\n",
    "Mean actual understanding of participants...\n",
    "... before the treatment:    ~{:.4f}\n",
    "... after the treatment:     ~{:.4f}\n",
    "\n",
    "\"\"\".format(np.mean(before), np.mean(after)))"
   ]
  },
  {
   "cell_type": "code",
   "execution_count": 30,
   "metadata": {},
   "outputs": [
    {
     "name": "stdout",
     "output_type": "stream",
     "text": [
      "before treatment vs. after treatment \n",
      " MannwhitneyuResult(statistic=1146.0, pvalue=0.2791108171496022)\n"
     ]
    }
   ],
   "source": [
    "MWU=stats.mannwhitneyu(before,after,alternative='two-sided') #MWU Test, non-parametic for independent samples\n",
    "print(\"before treatment vs. after treatment \\n\", MWU)"
   ]
  },
  {
   "cell_type": "markdown",
   "metadata": {},
   "source": [
    "### [H2] Understandable explanations of the app’s functionality will increase trust.\n",
    "We will compare the trust of the control group with the trust of the treatment groups. Our hypothesis states that the trust should be significantly higher in the treatment groups."
   ]
  },
  {
   "cell_type": "code",
   "execution_count": 31,
   "metadata": {},
   "outputs": [],
   "source": [
    "df_treatment = df_clean.loc[(df_clean['group']=='brief') | (df_clean['group']=='detailed')]"
   ]
  },
  {
   "cell_type": "code",
   "execution_count": 32,
   "metadata": {},
   "outputs": [
    {
     "data": {
      "text/plain": [
       "<matplotlib.axes._subplots.AxesSubplot at 0x1a17de9dd0>"
      ]
     },
     "execution_count": 32,
     "metadata": {},
     "output_type": "execute_result"
    },
    {
     "data": {
      "image/png": "[encoded data removed]",
      "text/plain": [
       "<Figure size 432x288 with 1 Axes>"
      ]
     },
     "metadata": {
      "needs_background": "light"
     },
     "output_type": "display_data"
    }
   ],
   "source": [
    "sns.regplot(x='act_und_r2', y='trust', data=df_treatment)"
   ]
  },
  {
   "cell_type": "code",
   "execution_count": 33,
   "metadata": {},
   "outputs": [
    {
     "name": "stdout",
     "output_type": "stream",
     "text": [
      "\n",
      "Mean trust of participants...\n",
      "... in the control group:       ~2.7931\n",
      "... im the treatment group:     ~2.8431\n",
      "\n",
      "\n"
     ]
    }
   ],
   "source": [
    "tr_trust = df_treatment['trust']\n",
    "ctrl_trust = df_clean.loc[(df_clean['group']=='no')]['trust']\n",
    "\n",
    "print(\"\"\"\n",
    "Mean trust of participants...\n",
    "... in the control group:       ~{:.4f}\n",
    "... im the treatment group:     ~{:.4f}\n",
    "\n",
    "\"\"\".format(np.mean(ctrl_trust), np.mean(tr_trust)))"
   ]
  },
  {
   "cell_type": "code",
   "execution_count": 34,
   "metadata": {},
   "outputs": [
    {
     "name": "stdout",
     "output_type": "stream",
     "text": [
      "trust in control group vs. trust in treatment groups \n",
      " MannwhitneyuResult(statistic=812.0, pvalue=0.44972637242279356)\n"
     ]
    }
   ],
   "source": [
    "MWU=stats.mannwhitneyu(tr_trust,ctrl_trust,alternative='two-sided')\n",
    "print(\"trust in control group vs. trust in treatment groups \\n\", MWU)"
   ]
  },
  {
   "cell_type": "code",
   "execution_count": 35,
   "metadata": {},
   "outputs": [
    {
     "name": "stdout",
     "output_type": "stream",
     "text": [
      "\n",
      "Mean trust in competence of participants...\n",
      "... in the control group:       ~3.5862\n",
      "... im the treatment group:     ~3.9804\n",
      "\n",
      "\n"
     ]
    }
   ],
   "source": [
    "tr_competence = df_treatment['competence']\n",
    "ctrl_competence = df_clean.loc[(df_clean['group']=='no')]['competence']\n",
    "\n",
    "print(\"\"\"\n",
    "Mean trust in competence of participants...\n",
    "... in the control group:       ~{:.4f}\n",
    "... im the treatment group:     ~{:.4f}\n",
    "\n",
    "\"\"\".format(np.mean(ctrl_competence), np.mean(tr_competence)))"
   ]
  },
  {
   "cell_type": "code",
   "execution_count": 36,
   "metadata": {},
   "outputs": [
    {
     "name": "stdout",
     "output_type": "stream",
     "text": [
      "trust in competence in control group vs. trust in competence in treatment groups \n",
      " MannwhitneyuResult(statistic=932.0, pvalue=0.04159421796533839)\n"
     ]
    }
   ],
   "source": [
    "MWU=stats.mannwhitneyu(tr_competence,ctrl_competence,alternative='two-sided')\n",
    "print(\"trust in competence in control group vs. trust in competence in treatment groups \\n\", MWU)"
   ]
  },
  {
   "cell_type": "code",
   "execution_count": 37,
   "metadata": {},
   "outputs": [
    {
     "name": "stdout",
     "output_type": "stream",
     "text": [
      "\n",
      "Mean trust in benevolence of participants...\n",
      "... in the control group:       ~1.5517\n",
      "... im the treatment group:     ~1.2353\n",
      "\n",
      "Belief in benevolence actually decreases!\n",
      "\n",
      "\n"
     ]
    }
   ],
   "source": [
    "tr_benevolence = df_treatment['benevolence']\n",
    "ctrl_benevolence = df_clean.loc[(df_clean['group']=='no')]['benevolence']\n",
    "\n",
    "print(\"\"\"\n",
    "Mean trust in benevolence of participants...\n",
    "... in the control group:       ~{:.4f}\n",
    "... im the treatment group:     ~{:.4f}\n",
    "\n",
    "Belief in benevolence actually decreases!\n",
    "\n",
    "\"\"\".format(np.mean(ctrl_benevolence), np.mean(tr_benevolence)))"
   ]
  },
  {
   "cell_type": "code",
   "execution_count": 38,
   "metadata": {},
   "outputs": [
    {
     "name": "stdout",
     "output_type": "stream",
     "text": [
      "trust in benevolence in control group vs. trust in benevolence in treatment groups \n",
      " MannwhitneyuResult(statistic=594.0, pvalue=0.05930426397572827)\n"
     ]
    }
   ],
   "source": [
    "MWU=stats.mannwhitneyu(tr_benevolence,ctrl_benevolence,alternative='two-sided') #MWU Test, non-parametic for independent samples\n",
    "print(\"trust in benevolence in control group vs. trust in benevolence in treatment groups \\n\", MWU)"
   ]
  },
  {
   "cell_type": "code",
   "execution_count": 39,
   "metadata": {},
   "outputs": [
    {
     "name": "stdout",
     "output_type": "stream",
     "text": [
      "\n",
      "Mean trust in integrity of participants...\n",
      "... in the control group:       ~3.2414\n",
      "... im the treatment group:     ~3.3137\n",
      "\n",
      "\n"
     ]
    }
   ],
   "source": [
    "tr_integrity = df_treatment['integrity']\n",
    "ctrl_integrity = df_clean.loc[(df_clean['group']=='no')]['integrity']\n",
    "\n",
    "print(\"\"\"\n",
    "Mean trust in integrity of participants...\n",
    "... in the control group:       ~{:.4f}\n",
    "... im the treatment group:     ~{:.4f}\n",
    "\n",
    "\"\"\".format(np.mean(ctrl_integrity), np.mean(tr_integrity)))"
   ]
  },
  {
   "cell_type": "code",
   "execution_count": 40,
   "metadata": {},
   "outputs": [
    {
     "name": "stdout",
     "output_type": "stream",
     "text": [
      "trust in integrity in control group vs. trust in integrity in treatment groups \n",
      " MannwhitneyuResult(statistic=800.0, pvalue=0.4660862235395995)\n"
     ]
    }
   ],
   "source": [
    "MWU=stats.mannwhitneyu(tr_integrity,ctrl_integrity,alternative='two-sided') #MWU Test, non-parametic for independent samples\n",
    "print(\"trust in integrity in control group vs. trust in integrity in treatment groups \\n\", MWU)"
   ]
  },
  {
   "cell_type": "markdown",
   "metadata": {},
   "source": [
    "### [H3]: Reasoned explanations of the app’s functionality will increase trust more than other types of transparency features.\n",
    "We will test whether trust in the treatment group with transparency condition 'detailed' increased more than the treatment group with transparency condition 'brief'."
   ]
  },
  {
   "cell_type": "markdown",
   "metadata": {},
   "source": [
    "Because we do not use the control group for this hypothesis we will remove participants, which got the color check wrong."
   ]
  },
  {
   "cell_type": "code",
   "execution_count": 41,
   "metadata": {},
   "outputs": [],
   "source": [
    "df_clean_valid = df_clean[df_clean['color_check'] == True]"
   ]
  },
  {
   "cell_type": "code",
   "execution_count": 42,
   "metadata": {},
   "outputs": [
    {
     "name": "stdout",
     "output_type": "stream",
     "text": [
      "Number of participants in the...\n",
      "... 'brief' group:    24\n",
      "... 'detailed' group: 20\n",
      "\n",
      "Mean trust of participants in the...\n",
      "... 'brief' group:    ~2.8056\n",
      "... 'detailed' group: ~2.9167\n",
      "\n",
      "\n"
     ]
    }
   ],
   "source": [
    "tr_brief=df_clean_valid.loc[df_clean_valid['group']=='brief']['trust']\n",
    "tr_detailed=df_clean_valid.loc[df_clean_valid['group']=='detailed']['trust']\n",
    "\n",
    "print(\"\"\"Number of participants in the...\n",
    "... 'brief' group:    {}\n",
    "... 'detailed' group: {}\n",
    "\n",
    "Mean trust of participants in the...\n",
    "... 'brief' group:    ~{:.4f}\n",
    "... 'detailed' group: ~{:.4f}\n",
    "\n",
    "\"\"\".format(len(tr_brief), len(tr_detailed),\n",
    "          np.mean(tr_brief), np.mean(tr_detailed),\n",
    "          ))"
   ]
  },
  {
   "cell_type": "code",
   "execution_count": 43,
   "metadata": {},
   "outputs": [
    {
     "name": "stdout",
     "output_type": "stream",
     "text": [
      "trust in 'brief' group vs. trust in 'detailed' group \n",
      " MannwhitneyuResult(statistic=185.5, pvalue=0.17812436038043344)\n"
     ]
    }
   ],
   "source": [
    "MWU=stats.mannwhitneyu(tr_brief,tr_detailed,alternative='two-sided')\n",
    "print(\"trust in 'brief' group vs. trust in 'detailed' group \\n\", MWU)"
   ]
  }
 ],
 "metadata": {
  "kernelspec": {
   "display_name": "Python 3",
   "language": "python",
   "name": "python3"
  },
  "language_info": {
   "codemirror_mode": {
    "name": "ipython",
    "version": 3
   },
   "file_extension": ".py",
   "mimetype": "text/x-python",
   "name": "python",
   "nbconvert_exporter": "python",
   "pygments_lexer": "ipython3",
   "version": "3.7.7"
  }
 },
 "nbformat": 4,
 "nbformat_minor": 4
}
