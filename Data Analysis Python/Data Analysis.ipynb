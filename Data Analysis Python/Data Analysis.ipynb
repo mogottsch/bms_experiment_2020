{
 "cells": [
  {
   "cell_type": "markdown",
   "metadata": {},
   "source": [
    "### Imports"
   ]
  },
  {
   "cell_type": "code",
   "execution_count": 1,
   "metadata": {},
   "outputs": [],
   "source": [
    "import pandas as pd\n",
    "import numpy as np\n",
    "import statsmodels.api as sm\n",
    "import statsmodels.formula.api as smf\n",
    "from scipy import stats\n",
    "import matplotlib.pyplot as plt\n",
    "import seaborn as sns"
   ]
  },
  {
   "cell_type": "code",
   "execution_count": 2,
   "metadata": {},
   "outputs": [],
   "source": [
    "# we copy and mutate dataframes, which causes warnings, however we are aware of this\n",
    "import warnings\n",
    "warnings.filterwarnings('ignore')"
   ]
  },
  {
   "cell_type": "markdown",
   "metadata": {},
   "source": [
    "For this analysis we use data, which we exported from our otree server.  \n",
    "The data was collected from the 21.08.2020 to the 26.08.2020 12:00.  \n",
    " \n",
    "We start by loading that data into a dataframe from pandas."
   ]
  },
  {
   "cell_type": "code",
   "execution_count": 3,
   "metadata": {},
   "outputs": [],
   "source": [
    "df = pd.read_csv(\"data26aug12uhr.csv\")"
   ]
  },
  {
   "cell_type": "markdown",
   "metadata": {},
   "source": [
    "# Data Preparation"
   ]
  },
  {
   "cell_type": "markdown",
   "metadata": {},
   "source": [
    "First we rename the most important data columns."
   ]
  },
  {
   "cell_type": "code",
   "execution_count": 4,
   "metadata": {},
   "outputs": [],
   "source": [
    "df['id']=df['participant.id_in_session']\n",
    "df['group']=df['bms_experiment.1.player.trans_cond']\n",
    "df['age']=df['bms_experiment.1.player.age']\n",
    "df['gender']=df['bms_experiment.1.player.gender']\n",
    "df['installed']=df['bms_experiment.1.player.installed']\n",
    "df['per_und_r1']=df['bms_experiment.1.player.understanding']\n",
    "df['per_und_r2']=df['bms_experiment.2.player.understanding']\n",
    "df['color_try1']=df['bms_experiment.1.player.attentive_1']\n",
    "df['color_try2']=df['bms_experiment.1.player.attentive_2']\n",
    "df['finished']=((df['bms_experiment.1.player.finished'] == 1.0) | (df['bms_experiment.2.player.finished'] == 1.0) )"
   ]
  },
  {
   "cell_type": "markdown",
   "metadata": {},
   "source": [
    "We sort out all participants who did not finish the whole survey."
   ]
  },
  {
   "cell_type": "code",
   "execution_count": 5,
   "metadata": {},
   "outputs": [],
   "source": [
    "df = df[df['finished'] == True] "
   ]
  },
  {
   "cell_type": "markdown",
   "metadata": {},
   "source": [
    "### Actual Understanding Calculation\n",
    "Here we calculate the actual understanding, which is determined by four multiple-choice-questions.  \n",
    "The participants will get one point per possible answer, if they answered according to the solution. This leads to four possible points per question with four questions in total.  \n",
    "There also was the possibility to answer with \"I don't know\". If this is the case the participant will automatically get zero points for the question, regardless the other answers."
   ]
  },
  {
   "cell_type": "code",
   "execution_count": 6,
   "metadata": {},
   "outputs": [],
   "source": [
    "# initialize columns for each question\n",
    "\n",
    "# round 1\n",
    "df['q1_r1']= 0\n",
    "df['q2_r1']= 0\n",
    "df['q3_r1']= 0\n",
    "df['q4_r1']= 0\n",
    "\n",
    "#round 2\n",
    "df['q1_r2']= 0\n",
    "df['q2_r2']= 0\n",
    "df['q3_r2']= 0\n",
    "df['q4_r2']= 0\n",
    "\n",
    "# 1 => answer is correct\n",
    "# 0 => answer is wrong\n",
    "solutions = [[0,0,1,0],[0,0,0,1],[1,0,0,1],[0,0,0,1]]\n",
    "\n",
    "# we iterate through all rounds (1 & 2) and all questions (1 - 4)\n",
    "for roundnumber in range(1,3):\n",
    "    for question in range(1,5):\n",
    "        for i in df.T:\n",
    "            question_score = 0\n",
    "            # if the participants answered \"I don't know, we set the question_score to zero\"\n",
    "            if df['bms_experiment.{0}.player.q{1}_a5'.format(roundnumber,question)][i] == 1:\n",
    "                question_score = 0\n",
    "            else:\n",
    "                # we iterate through all possible answers and increase the question score by one for each correct question\n",
    "                for answer in range(1,5):\n",
    "                    if df['bms_experiment.{0}.player.q{1}_a{2}'.format(roundnumber,question,answer)][i] == solutions[question-1][answer-1]:\n",
    "                        question_score = question_score + 1 \n",
    "                # after calculating the question score we set it accordingly in the dataframe \n",
    "                df['q{0}_r{1}'.format(question,roundnumber)][i]=question_score"
   ]
  },
  {
   "cell_type": "markdown",
   "metadata": {},
   "source": [
    "### Check for consistency in inverted questions\n",
    "All of our trust questions also have an inverted form. We did this to be aware of people, who simply answer the survey randomly.  \n",
    "Here we set a column called \"invertedCheck\" to False if the participant answered strongly contradictory.  \n",
    "By strongly contradictory we mean that the participant answered \"Fully agree\" to both the original as well as the negated question. \n",
    "Technically this means that the participant answered 5 to both questions. We calculate the invertedCheck by calculating the average of both answers. If this average is equal to 1 or 5, this means that the participant answered strongly contradictory."
   ]
  },
  {
   "cell_type": "code",
   "execution_count": 7,
   "metadata": {
    "scrolled": true
   },
   "outputs": [],
   "source": [
    "# initialize column for invertedCheck\n",
    "df['invertedCheck'] = True\n",
    "\n",
    "# iterate through each round and each trust aspect\n",
    "for roundnumber in range(1,3):\n",
    "    for trustAspect in ['competence','benevolence','no_central_entity','anonymity','no_tracking','unlinkabilty']:\n",
    "        for i in df.T:\n",
    "            if (((df['bms_experiment.{0}.player.{1}'.format(roundnumber, trustAspect)][i] +\n",
    "                  df['bms_experiment.{0}.player.{1}_neg'.format(roundnumber, trustAspect)][i]) / 2) < 2) | \\\n",
    "                    (((df['bms_experiment.{0}.player.{1}'.format(roundnumber, trustAspect)][i] +\n",
    "                       df['bms_experiment.{0}.player.{1}_neg'.format(roundnumber, trustAspect)][i]) / 2) > 4):\n",
    "                df['invertedCheck'][i]= False"
   ]
  },
  {
   "cell_type": "markdown",
   "metadata": {},
   "source": [
    "### Calculate trust\n",
    "Here we calculate trust values for competence and benevolence, as well as the subaspects of integrity.  \n",
    "For each value we have exactly one question and one negated question. We calculate the corresponding value through the average of the answer to the original question and the negated question. Before doing that we invert the answer to the negated question. This means that if the answer to the negated question is 5, we change it 1. (5->1, 4->2, 3->3, ...)"
   ]
  },
  {
   "cell_type": "code",
   "execution_count": 8,
   "metadata": {},
   "outputs": [],
   "source": [
    "# iterate through each round and each trust aspect\n",
    "for roundnumber in range(1,3):\n",
    "    for trustAspect in ['competence','benevolence','no_central_entity','anonymity','no_tracking','unlinkabilty']:\n",
    "        df['{0}_r{1}'.format(trustAspect,roundnumber)]= 100 #column erstellen\n",
    "        for i in df.T:\n",
    "            aspect = df['bms_experiment.{0}.player.{1}'.format(roundnumber,trustAspect)][i]\n",
    "            # invert the negated question\n",
    "            aspect_neg_inverted = abs(df['bms_experiment.{0}.player.{1}_neg'.format(roundnumber,trustAspect)][i]-6)\n",
    "            # calculate question and save to dataframe\n",
    "            df['{0}_r{1}'.format(trustAspect,roundnumber)][i] = (aspect + aspect_neg_inverted)/2.0\n"
   ]
  },
  {
   "cell_type": "markdown",
   "metadata": {},
   "source": [
    "### Drop all irrelevant columns"
   ]
  },
  {
   "cell_type": "code",
   "execution_count": 9,
   "metadata": {},
   "outputs": [],
   "source": [
    "df.drop(['participant.id_in_session', 'bms_experiment.1.player.trans_cond',\n",
    "       'bms_experiment.1.player.age', 'bms_experiment.1.player.gender',\n",
    "       'bms_experiment.1.player.installed',\n",
    "       'bms_experiment.1.player.understanding',\n",
    "       'bms_experiment.1.player.attentive_1',\n",
    "       'bms_experiment.1.player.attentive_2',\n",
    "       'bms_experiment.1.player.finished',\n",
    "       'bms_experiment.2.player.understanding',\n",
    "       'bms_experiment.2.player.finished',\n",
    "       'participant._is_bot','participant.code','participant.label','participant._index_in_pages',\n",
    "       'participant._max_page_index', 'participant._current_app_name',\n",
    "       'participant._current_page_name', 'participant.time_started',\n",
    "       'participant.visited','participant.mturk_worker_id',\n",
    "       'participant.mturk_assignment_id', 'participant.payoff',\n",
    "       'participant.payoff_plus_participation_fee', 'session.code',\n",
    "       'session.label', 'session.mturk_HITId', 'session.mturk_HITGroupId',\n",
    "       'session.comment', 'session.is_demo',\n",
    "       'session.config.participation_fee',\n",
    "       'session.config.real_world_currency_per_point','bms_experiment.1.player.payoff','bms_experiment.2.player.payoff','bms_experiment.1.player.id_in_group',\n",
    "       'bms_experiment.1.group.id_in_subsession',\n",
    "       'bms_experiment.1.subsession.round_number',\n",
    "       'bms_experiment.2.player.id_in_group',\n",
    "       'bms_experiment.2.player.trans_cond','bms_experiment.2.group.id_in_subsession',\n",
    "       'bms_experiment.2.subsession.round_number','bms_experiment.2.player.age',\n",
    "       'bms_experiment.2.player.gender', 'bms_experiment.2.player.installed',\n",
    "       'bms_experiment.2.player.attentive_1',\n",
    "       'bms_experiment.2.player.attentive_2',\n",
    "       'bms_experiment.1.player.q1_a1', 'bms_experiment.1.player.q1_a2',\n",
    "       'bms_experiment.1.player.q1_a3', 'bms_experiment.1.player.q1_a4',\n",
    "       'bms_experiment.1.player.q1_a5', 'bms_experiment.1.player.q2_a1',\n",
    "       'bms_experiment.1.player.q2_a2', 'bms_experiment.1.player.q2_a3',\n",
    "       'bms_experiment.1.player.q2_a4', 'bms_experiment.1.player.q2_a5',\n",
    "       'bms_experiment.1.player.q3_a1', 'bms_experiment.1.player.q3_a2',\n",
    "       'bms_experiment.1.player.q3_a3', 'bms_experiment.1.player.q3_a4',\n",
    "       'bms_experiment.1.player.q3_a5', 'bms_experiment.1.player.q4_a1',\n",
    "       'bms_experiment.1.player.q4_a2', 'bms_experiment.1.player.q4_a3',\n",
    "       'bms_experiment.1.player.q4_a4', 'bms_experiment.1.player.q4_a5',\n",
    "       'bms_experiment.2.player.q1_a1', 'bms_experiment.2.player.q1_a2',\n",
    "       'bms_experiment.2.player.q1_a3', 'bms_experiment.2.player.q1_a4',\n",
    "       'bms_experiment.2.player.q1_a5', 'bms_experiment.2.player.q2_a1',\n",
    "       'bms_experiment.2.player.q2_a2', 'bms_experiment.2.player.q2_a3',\n",
    "       'bms_experiment.2.player.q2_a4', 'bms_experiment.2.player.q2_a5',\n",
    "       'bms_experiment.2.player.q3_a1', 'bms_experiment.2.player.q3_a2',\n",
    "       'bms_experiment.2.player.q3_a3', 'bms_experiment.2.player.q3_a4',\n",
    "       'bms_experiment.2.player.q3_a5', 'bms_experiment.2.player.q4_a1',\n",
    "       'bms_experiment.2.player.q4_a2', 'bms_experiment.2.player.q4_a3',\n",
    "       'bms_experiment.2.player.q4_a4', 'bms_experiment.2.player.q4_a5',\n",
    "       'bms_experiment.1.player.competence',\n",
    "       'bms_experiment.1.player.competence_neg',\n",
    "       'bms_experiment.1.player.benevolence',\n",
    "       'bms_experiment.1.player.benevolence_neg',\n",
    "       'bms_experiment.1.player.no_central_entity',\n",
    "       'bms_experiment.1.player.no_central_entity_neg',\n",
    "       'bms_experiment.1.player.anonymity',\n",
    "       'bms_experiment.1.player.anonymity_neg',\n",
    "       'bms_experiment.1.player.no_tracking',\n",
    "       'bms_experiment.1.player.no_tracking_neg',\n",
    "       'bms_experiment.1.player.unlinkabilty',\n",
    "       'bms_experiment.1.player.unlinkabilty_neg',\n",
    "        'bms_experiment.2.player.competence',\n",
    "       'bms_experiment.2.player.competence_neg',\n",
    "       'bms_experiment.2.player.benevolence',\n",
    "       'bms_experiment.2.player.benevolence_neg',\n",
    "       'bms_experiment.2.player.no_central_entity',\n",
    "       'bms_experiment.2.player.no_central_entity_neg',\n",
    "       'bms_experiment.2.player.anonymity',\n",
    "       'bms_experiment.2.player.anonymity_neg',\n",
    "       'bms_experiment.2.player.no_tracking',\n",
    "       'bms_experiment.2.player.no_tracking_neg',\n",
    "       'bms_experiment.2.player.unlinkabilty',\n",
    "       'bms_experiment.2.player.unlinkabilty_neg',], axis=1, inplace=True)"
   ]
  },
  {
   "cell_type": "markdown",
   "metadata": {},
   "source": [
    "### Color check\n",
    "In our survey we added a simple piece of information in the text. It said \"The color is yellow\".  \n",
    "After the participants read that text, they had to replicate this information. If they failed the first time, they were asked to read the text again and had another chance to replicate. If they failed a second time we will sort them out.  \n",
    "The control group had no text and thereby they never failed this test."
   ]
  },
  {
   "cell_type": "code",
   "execution_count": 10,
   "metadata": {},
   "outputs": [],
   "source": [
    "df['color_check'] = (df['group'] == 'no') | ( # set to true if group is control group\n",
    "            (df['group'] != 'no') & ((df['color_try1'] == 'yellow') | (df['color_try2'] == 'yellow'))) # set to true if participant answered correctly"
   ]
  },
  {
   "cell_type": "code",
   "execution_count": 11,
   "metadata": {},
   "outputs": [],
   "source": [
    "df_new = df"
   ]
  },
  {
   "cell_type": "markdown",
   "metadata": {},
   "source": [
    "## Aggregation of values"
   ]
  },
  {
   "cell_type": "markdown",
   "metadata": {},
   "source": [
    "### Calculation of actual understanding and integrity\n",
    "We calculate the actual understanding (in both rounds) through the average the points for each question.  \n",
    "Integrity will also be calculated through the average of each subaspect."
   ]
  },
  {
   "cell_type": "code",
   "execution_count": 12,
   "metadata": {},
   "outputs": [],
   "source": [
    "df_new['act_und_r1']=(df_new['q1_r1']+df_new['q2_r1']+df_new['q3_r1']+df_new['q4_r1'])/4\n",
    "df_new['act_und_r2']=(df_new['q1_r2']+df_new['q2_r2']+df_new['q3_r2']+df_new['q4_r2'])/4\n",
    "df_new['integrity_r1']=(df_new['no_central_entity_r1']+df_new['anonymity_r1']+df_new['no_tracking_r1']+df_new['unlinkabilty_r1'])/4\n",
    "df_new['integrity_r2']=(df_new['no_central_entity_r2']+df_new['anonymity_r2']+df_new['no_tracking_r2']+df_new['unlinkabilty_r2'])/4\n",
    "\n",
    "# drop the columns which were used for calculation\n",
    "df_new.drop(['q1_r1','q2_r1', 'q3_r1', 'q4_r1', 'q1_r2', 'q2_r2', 'q3_r2', 'q4_r2',\n",
    "        'no_central_entity_r1', 'anonymity_r1', 'no_tracking_r1','unlinkabilty_r1',\n",
    "        'no_central_entity_r2', 'anonymity_r2', 'no_tracking_r2',\n",
    "       'unlinkabilty_r2'], axis=1, inplace=True)"
   ]
  },
  {
   "cell_type": "markdown",
   "metadata": {},
   "source": [
    "### Calculation of trust\n",
    "We calculate trust through the average of competence, benevolence and integrity."
   ]
  },
  {
   "cell_type": "code",
   "execution_count": 13,
   "metadata": {
    "scrolled": true
   },
   "outputs": [],
   "source": [
    "# we create new columns in which we can store trust aspects for both groups\n",
    "df_new['competence']=0\n",
    "df_new['benevolence']=0\n",
    "df_new['integrity']=0\n",
    "\n",
    "for i in df_new.T:\n",
    "    if df_new['group'][i] == 'no':\n",
    "        df_new['competence'][i]=df_new['competence_r1'][i]\n",
    "        df_new['benevolence'][i]=df_new['benevolence_r1'][i]\n",
    "        df_new['integrity'][i]=df_new['integrity_r1'][i]\n",
    "    else:\n",
    "        df_new['competence'][i]=df_new['competence_r2'][i]\n",
    "        df_new['benevolence'][i]=df_new['benevolence_r2'][i]\n",
    "        df_new['integrity'][i]=df_new['integrity_r2'][i]\n",
    "        \n",
    "\n",
    "df_new['trust']=(df_new['competence']+df_new['benevolence']+df_new['integrity'])/3\n",
    "\n",
    "# drop the columns used for calculation\n",
    "df_new.drop(['competence_r1', 'benevolence_r1', 'competence_r2', 'benevolence_r2','integrity_r1', 'integrity_r2'], axis=1, inplace=True)"
   ]
  },
  {
   "cell_type": "code",
   "execution_count": 14,
   "metadata": {},
   "outputs": [
    {
     "name": "stdout",
     "output_type": "stream",
     "text": [
      "total number of participants: 77\n",
      "      failed the color check: 7\n",
      "    \n",
      "number of valid participants: 70\n",
      "\n"
     ]
    }
   ],
   "source": [
    "total = df_new['id'].count()\n",
    "failed_color = df_new[df_new['color_check']==False]['id'].count()\n",
    "valid = total-failed_color\n",
    "print(\"\"\"total number of participants: {}\n",
    "      failed the color check: {}\n",
    "    \n",
    "number of valid participants: {}\n",
    "\"\"\".format(total, failed_color, valid))"
   ]
  },
  {
   "cell_type": "code",
   "execution_count": 15,
   "metadata": {},
   "outputs": [],
   "source": [
    "df_clean = df_new[(df_new['finished']==True)]"
   ]
  },
  {
   "cell_type": "markdown",
   "metadata": {},
   "source": [
    "# Data Analysis\n",
    "First we take a look at some basic information about our participants."
   ]
  },
  {
   "cell_type": "code",
   "execution_count": 16,
   "metadata": {},
   "outputs": [
    {
     "name": "stdout",
     "output_type": "stream",
     "text": [
      "average age:\n",
      "~25.61\n",
      "\n",
      "percentage of participants, who have the app installed:\n",
      "80.52%\n",
      "\n",
      "female:  41.56%\n",
      "male:    58.44%\n",
      "diverse: 0.00%\n",
      "\n"
     ]
    }
   ],
   "source": [
    "num_female = df_new[df_new['gender'] == 0]['id'].count()\n",
    "num_male = df_new[df_new['gender'] == 1]['id'].count()\n",
    "num_diverse = df_new[df_new['gender'] == 2]['id'].count()\n",
    "\n",
    "print(\"\"\"average age:\n",
    "~{:.2f}\n",
    "\n",
    "percentage of participants, who have the app installed:\n",
    "{:.2f}%\n",
    "\n",
    "female:  {:.2f}%\n",
    "male:    {:.2f}%\n",
    "diverse: {:.2f}%\n",
    "\"\"\".format(df_new['age'].mean(),\n",
    "           df_new['installed'].mean()*100,\n",
    "           num_female/total*100,\n",
    "           num_male/total*100,\n",
    "           num_diverse/total*100\n",
    "          ))"
   ]
  },
  {
   "cell_type": "markdown",
   "metadata": {},
   "source": [
    "### [H1] \"Users will have a better understanding of the system when provided with an explanation of its   functionality.\"\n",
    "#### Control vs Treatment\n",
    "##### Actual Understanding\n",
    "We retrieve the actual understanding of the control group and the actual understanding of the treatment groups after the treatment. After that we will check if there is a statistically significant difference between the control group and the first treatment group as well as the control group and the second treatment group."
   ]
  },
  {
   "cell_type": "code",
   "execution_count": 17,
   "metadata": {},
   "outputs": [
    {
     "name": "stdout",
     "output_type": "stream",
     "text": [
      "tr dataset:  27\n",
      "tr dataset:  25\n",
      "tr dataset:  25\n",
      "Number of participants in the...\n",
      "... control group:    27\n",
      "... 'brief' group:    25\n",
      "... 'detailed' group: 25\n",
      "\n",
      "Mean actual understanding of participants in the...\n",
      "... control group:    ~2.9815\n",
      "... 'brief' group:    ~3.2100\n",
      "... 'detailed' group: ~3.2800\n",
      "\n",
      "\n"
     ]
    }
   ],
   "source": [
    "tr1=df_clean.loc[df_clean['group']=='no']['act_und_r1']\n",
    "print('tr dataset: ', len(tr1))\n",
    "tr2=df_clean.loc[df_clean['group']=='brief']['act_und_r2']\n",
    "print('tr dataset: ', len(tr2))\n",
    "tr3=df_clean.loc[df_clean['group']=='detailed']['act_und_r2']\n",
    "print('tr dataset: ', len(tr3))\n",
    "\n",
    "print(\"\"\"Number of participants in the...\n",
    "... control group:    {}\n",
    "... 'brief' group:    {}\n",
    "... 'detailed' group: {}\n",
    "\n",
    "Mean actual understanding of participants in the...\n",
    "... control group:    ~{:.4f}\n",
    "... 'brief' group:    ~{:.4f}\n",
    "... 'detailed' group: ~{:.4f}\n",
    "\n",
    "\"\"\".format(len(tr1), len(tr2), len(tr2),\n",
    "          np.mean(tr1), np.mean(tr2), np.mean(tr3)\n",
    "          ))"
   ]
  },
  {
   "cell_type": "markdown",
   "metadata": {},
   "source": [
    "Now we run a MWU-Test, because it is non-parametic."
   ]
  },
  {
   "cell_type": "code",
   "execution_count": 18,
   "metadata": {},
   "outputs": [
    {
     "name": "stdout",
     "output_type": "stream",
     "text": [
      "control group vs. 'brief' group \n",
      " MannwhitneyuResult(statistic=282.5, pvalue=0.3138694855553543)\n",
      "\n",
      "control group vs. 'detailed' group \n",
      " MannwhitneyuResult(statistic=266.0, pvalue=0.18772932289377164)\n"
     ]
    }
   ],
   "source": [
    "MWU=stats.mannwhitneyu(tr1,tr2,alternative='two-sided')\n",
    "print(\"control group vs. 'brief' group \\n\", MWU)\n",
    "print(\"\")\n",
    "MWU=stats.mannwhitneyu(tr1,tr3,alternative='two-sided')\n",
    "print(\"control group vs. 'detailed' group \\n\", MWU)"
   ]
  },
  {
   "cell_type": "markdown",
   "metadata": {},
   "source": [
    "##### Perceived Understanding\n",
    "We repeat the process for perceived understanding"
   ]
  },
  {
   "cell_type": "code",
   "execution_count": 19,
   "metadata": {},
   "outputs": [
    {
     "name": "stdout",
     "output_type": "stream",
     "text": [
      "\n",
      "Mean perceived understanding of participants in the...\n",
      "... control group:    ~3.5556\n",
      "... 'brief' group:    ~3.7200\n",
      "... 'detailed' group: ~4.0000\n",
      "\n",
      "\n",
      "control group vs. 'brief' group \n",
      " MannwhitneyuResult(statistic=282.5, pvalue=0.3138694855553543)\n",
      "\n",
      "control group vs. 'detailed' group \n",
      " MannwhitneyuResult(statistic=266.0, pvalue=0.18772932289377164)\n"
     ]
    }
   ],
   "source": [
    "ptr1=df_clean.loc[df_clean['group']=='no']['per_und_r1']\n",
    "ptr2=df_clean.loc[df_clean['group']=='brief']['per_und_r2']\n",
    "ptr3=df_clean.loc[df_clean['group']=='detailed']['per_und_r2']\n",
    "\n",
    "print(\"\"\"\n",
    "Mean perceived understanding of participants in the...\n",
    "... control group:    ~{:.4f}\n",
    "... 'brief' group:    ~{:.4f}\n",
    "... 'detailed' group: ~{:.4f}\n",
    "\n",
    "\"\"\".format(np.mean(ptr1), np.mean(ptr2), np.mean(ptr3)))\n",
    "\n",
    "MWU=stats.mannwhitneyu(tr1,tr2,alternative='two-sided')\n",
    "print(\"control group vs. 'brief' group \\n\", MWU)\n",
    "print(\"\")\n",
    "MWU=stats.mannwhitneyu(tr1,tr3,alternative='two-sided')\n",
    "print(\"control group vs. 'detailed' group \\n\", MWU)"
   ]
  },
  {
   "cell_type": "markdown",
   "metadata": {},
   "source": [
    "#### Treatment before vs after\n",
    "We can also compare the trust inside the treatment groups, because we collected data on understanding before the texts and after the texts.\n",
    "##### Actual Understanding"
   ]
  },
  {
   "cell_type": "code",
   "execution_count": 20,
   "metadata": {},
   "outputs": [
    {
     "name": "stdout",
     "output_type": "stream",
     "text": [
      "\n",
      "Mean actual understanding of participants...\n",
      "... before the treatment:    ~2.8800\n",
      "... after the treatment:     ~3.2450\n",
      "\n",
      "\n"
     ]
    }
   ],
   "source": [
    "before=df_clean.loc[(df_clean['group']=='brief') | (df_clean['group']=='detailed')]['act_und_r1']\n",
    "after=df_clean.loc[(df_clean['group']=='brief') | (df_clean['group']=='detailed')]['act_und_r2']\n",
    "\n",
    "print(\"\"\"\n",
    "Mean actual understanding of participants...\n",
    "... before the treatment:    ~{:.4f}\n",
    "... after the treatment:     ~{:.4f}\n",
    "\n",
    "\"\"\".format(np.mean(before), np.mean(after)))"
   ]
  },
  {
   "cell_type": "code",
   "execution_count": 21,
   "metadata": {},
   "outputs": [
    {
     "name": "stdout",
     "output_type": "stream",
     "text": [
      "before treatment vs. after treatment \n",
      " MannwhitneyuResult(statistic=947.0, pvalue=0.03507584276644766)\n"
     ]
    }
   ],
   "source": [
    "#comparing actual understanding before and after reading the text\n",
    "MWU=stats.mannwhitneyu(before,after,alternative='two-sided') #MWU Test, non-parametic for independent samples\n",
    "print(\"before treatment vs. after treatment \\n\", MWU)"
   ]
  },
  {
   "cell_type": "markdown",
   "metadata": {},
   "source": [
    "##### Perceived Understanding"
   ]
  },
  {
   "cell_type": "code",
   "execution_count": 22,
   "metadata": {},
   "outputs": [
    {
     "name": "stdout",
     "output_type": "stream",
     "text": [
      "\n",
      "Mean actual understanding of participants...\n",
      "... before the treatment:    ~3.5800\n",
      "... after the treatment:     ~3.8600\n",
      "\n",
      "\n"
     ]
    }
   ],
   "source": [
    "before=df_clean.loc[(df_clean['group']=='brief') | (df_clean['group']=='detailed')]['per_und_r1']\n",
    "after=df_clean.loc[(df_clean['group']=='brief') | (df_clean['group']=='detailed')]['per_und_r2']\n",
    "\n",
    "print(\"\"\"\n",
    "Mean actual understanding of participants...\n",
    "... before the treatment:    ~{:.4f}\n",
    "... after the treatment:     ~{:.4f}\n",
    "\n",
    "\"\"\".format(np.mean(before), np.mean(after)))"
   ]
  },
  {
   "cell_type": "code",
   "execution_count": 30,
   "metadata": {},
   "outputs": [
    {
     "name": "stdout",
     "output_type": "stream",
     "text": [
      "before treatment vs. after treatment \n",
      " MannwhitneyuResult(statistic=1084.0, pvalue=0.23114250742540687)\n"
     ]
    }
   ],
   "source": [
    "MWU=stats.mannwhitneyu(before,after,alternative='two-sided') #MWU Test, non-parametic for independent samples\n",
    "print(\"before treatment vs. after treatment \\n\", MWU)"
   ]
  },
  {
   "cell_type": "markdown",
   "metadata": {},
   "source": [
    "### [H2] Understandable explanations of the app’s functionality will increase trust more than other types of transparency features.\n",
    "We will compare the trust of the control group with the trust of the treatment groups. Our hypothesis states that the trust should be significantly higher in the treatment groups."
   ]
  },
  {
   "cell_type": "code",
   "execution_count": 24,
   "metadata": {},
   "outputs": [],
   "source": [
    "df_treatment = df_clean.loc[(df_clean['group']=='brief') | (df_clean['group']=='detailed')]"
   ]
  },
  {
   "cell_type": "code",
   "execution_count": 25,
   "metadata": {},
   "outputs": [
    {
     "data": {
      "text/plain": [
       "<matplotlib.axes._subplots.AxesSubplot at 0x2c432865148>"
      ]
     },
     "execution_count": 25,
     "metadata": {},
     "output_type": "execute_result"
    },
    {
     "data": {
      "image/png": "[encoded data removed]",
      "text/plain": [
       "<Figure size 432x288 with 1 Axes>"
      ]
     },
     "metadata": {
      "needs_background": "light"
     },
     "output_type": "display_data"
    }
   ],
   "source": [
    "sns.regplot(x='act_und_r2', y='trust', data=df_treatment)"
   ]
  },
  {
   "cell_type": "code",
   "execution_count": 32,
   "metadata": {},
   "outputs": [
    {
     "name": "stdout",
     "output_type": "stream",
     "text": [
      "\n",
      "Mean trust of participants...\n",
      "... in the control group:       ~2.8025\n",
      "... im the treatment group:     ~2.8467\n",
      "\n",
      "\n"
     ]
    }
   ],
   "source": [
    "tr_trust = df_treatment['trust']\n",
    "ctrl_trust = df_clean.loc[(df_clean['group']=='no')]['trust']\n",
    "\n",
    "print(\"\"\"\n",
    "Mean trust of participants...\n",
    "... in the control group:       ~{:.4f}\n",
    "... im the treatment group:     ~{:.4f}\n",
    "\n",
    "\"\"\".format(np.mean(ctrl_trust), np.mean(tr_trust)))"
   ]
  },
  {
   "cell_type": "code",
   "execution_count": 33,
   "metadata": {},
   "outputs": [
    {
     "name": "stdout",
     "output_type": "stream",
     "text": [
      "trust in control group vs. trust in treatment groups \n",
      " MannwhitneyuResult(statistic=736.5, pvalue=0.49431564722359067)\n"
     ]
    }
   ],
   "source": [
    "MWU=stats.mannwhitneyu(tr_trust,ctrl_trust,alternative='two-sided') #MWU Test, non-parametic for independent samples\n",
    "print(\"trust in control group vs. trust in treatment groups \\n\", MWU)"
   ]
  },
  {
   "cell_type": "code",
   "execution_count": 35,
   "metadata": {},
   "outputs": [
    {
     "name": "stdout",
     "output_type": "stream",
     "text": [
      "\n",
      "Mean trust in competence of participants...\n",
      "... in the control group:       ~3.6296\n",
      "... im the treatment group:     ~4.0000\n",
      "\n",
      "\n"
     ]
    }
   ],
   "source": [
    "tr_competence = df_treatment['competence']\n",
    "ctrl_competence = df_clean.loc[(df_clean['group']=='no')]['competence']\n",
    "\n",
    "print(\"\"\"\n",
    "Mean trust in competence of participants...\n",
    "... in the control group:       ~{:.4f}\n",
    "... im the treatment group:     ~{:.4f}\n",
    "\n",
    "\"\"\".format(np.mean(ctrl_competence), np.mean(tr_competence)))"
   ]
  },
  {
   "cell_type": "code",
   "execution_count": 36,
   "metadata": {},
   "outputs": [
    {
     "name": "stdout",
     "output_type": "stream",
     "text": [
      "trust in competence in control group vs. trust in competence in treatment groups \n",
      " MannwhitneyuResult(statistic=839.0, pvalue=0.06369525134362775)\n"
     ]
    }
   ],
   "source": [
    "MWU=stats.mannwhitneyu(tr_competence,ctrl_competence,alternative='two-sided')\n",
    "print(\"trust in competence in control group vs. trust in competence in treatment groups \\n\", MWU)"
   ]
  },
  {
   "cell_type": "code",
   "execution_count": 44,
   "metadata": {},
   "outputs": [
    {
     "name": "stdout",
     "output_type": "stream",
     "text": [
      "\n",
      "Mean trust in benevolence of participants...\n",
      "... in the control group:       ~1.5185\n",
      "... im the treatment group:     ~1.2400\n",
      "\n",
      "Belief in benevolence actually decreases!\n",
      "\n",
      "\n"
     ]
    }
   ],
   "source": [
    "tr_benevolence = df_treatment['benevolence']\n",
    "ctrl_benevolence = df_clean.loc[(df_clean['group']=='no')]['benevolence']\n",
    "\n",
    "print(\"\"\"\n",
    "Mean trust in benevolence of participants...\n",
    "... in the control group:       ~{:.4f}\n",
    "... im the treatment group:     ~{:.4f}\n",
    "\n",
    "Belief in benevolence actually decreases!\n",
    "\n",
    "\"\"\".format(np.mean(ctrl_benevolence), np.mean(tr_benevolence)))"
   ]
  },
  {
   "cell_type": "code",
   "execution_count": 41,
   "metadata": {},
   "outputs": [
    {
     "name": "stdout",
     "output_type": "stream",
     "text": [
      "trust in benevolence in control group vs. trust in benevolence in treatment groups \n",
      " MannwhitneyuResult(statistic=554.0, pvalue=0.09313253666177845)\n"
     ]
    }
   ],
   "source": [
    "MWU=stats.mannwhitneyu(tr_benevolence,ctrl_benevolence,alternative='two-sided') #MWU Test, non-parametic for independent samples\n",
    "print(\"trust in benevolence in control group vs. trust in benevolence in treatment groups \\n\", MWU)"
   ]
  },
  {
   "cell_type": "code",
   "execution_count": 42,
   "metadata": {},
   "outputs": [
    {
     "name": "stdout",
     "output_type": "stream",
     "text": [
      "\n",
      "Mean trust in integrity of participants...\n",
      "... in the control group:       ~3.2593\n",
      "... im the treatment group:     ~3.3000\n",
      "\n",
      "\n"
     ]
    }
   ],
   "source": [
    "tr_integrity = df_treatment['integrity']\n",
    "ctrl_integrity = df_clean.loc[(df_clean['group']=='no')]['integrity']\n",
    "\n",
    "print(\"\"\"\n",
    "Mean trust in integrity of participants...\n",
    "... in the control group:       ~{:.4f}\n",
    "... im the treatment group:     ~{:.4f}\n",
    "\n",
    "\"\"\".format(np.mean(ctrl_integrity), np.mean(tr_integrity)))"
   ]
  },
  {
   "cell_type": "code",
   "execution_count": 43,
   "metadata": {},
   "outputs": [
    {
     "name": "stdout",
     "output_type": "stream",
     "text": [
      "trust in integrity in control group vs. trust in integrity in treatment groups \n",
      " MannwhitneyuResult(statistic=709.5, pvalue=0.6596535664455245)\n"
     ]
    }
   ],
   "source": [
    "MWU=stats.mannwhitneyu(tr_integrity,ctrl_integrity,alternative='two-sided') #MWU Test, non-parametic for independent samples\n",
    "print(\"trust in integrity in control group vs. trust in integrity in treatment groups \\n\", MWU)"
   ]
  },
  {
   "cell_type": "markdown",
   "metadata": {},
   "source": [
    "---\n",
    "probably depricated"
   ]
  },
  {
   "cell_type": "code",
   "execution_count": 26,
   "metadata": {},
   "outputs": [
    {
     "name": "stdout",
     "output_type": "stream",
     "text": [
      "                            OLS Regression Results                            \n",
      "==============================================================================\n",
      "Dep. Variable:                  trust   R-squared:                       0.056\n",
      "Model:                            OLS   Adj. R-squared:                  0.037\n",
      "Method:                 Least Squares   F-statistic:                     2.870\n",
      "Date:                Wed, 26 Aug 2020   Prob (F-statistic):             0.0967\n",
      "Time:                        20:05:50   Log-Likelihood:                -11.606\n",
      "No. Observations:                  50   AIC:                             27.21\n",
      "Df Residuals:                      48   BIC:                             31.04\n",
      "Df Model:                           1                                         \n",
      "Covariance Type:            nonrobust                                         \n",
      "==============================================================================\n",
      "                 coef    std err          t      P>|t|      [0.025      0.975]\n",
      "------------------------------------------------------------------------------\n",
      "Intercept      2.5029      0.208     12.054      0.000       2.085       2.920\n",
      "act_und_r2     0.1059      0.063      1.694      0.097      -0.020       0.232\n",
      "==============================================================================\n",
      "Omnibus:                        0.584   Durbin-Watson:                   1.771\n",
      "Prob(Omnibus):                  0.747   Jarque-Bera (JB):                0.401\n",
      "Skew:                          -0.217   Prob(JB):                        0.818\n",
      "Kurtosis:                       2.940   Cond. No.                         17.0\n",
      "==============================================================================\n",
      "\n",
      "Warnings:\n",
      "[1] Standard Errors assume that the covariance matrix of the errors is correctly specified.\n"
     ]
    }
   ],
   "source": [
    "reg=smf.ols('trust~act_und_r2',data=df_treatment).fit()\n",
    "print(reg.summary())"
   ]
  },
  {
   "cell_type": "code",
   "execution_count": 27,
   "metadata": {
    "scrolled": true
   },
   "outputs": [
    {
     "name": "stdout",
     "output_type": "stream",
     "text": [
      "                            OLS Regression Results                            \n",
      "==============================================================================\n",
      "Dep. Variable:             competence   R-squared:                       0.086\n",
      "Model:                            OLS   Adj. R-squared:                  0.067\n",
      "Method:                 Least Squares   F-statistic:                     4.496\n",
      "Date:                Wed, 26 Aug 2020   Prob (F-statistic):             0.0392\n",
      "Time:                        20:05:50   Log-Likelihood:                -59.067\n",
      "No. Observations:                  50   AIC:                             122.1\n",
      "Df Residuals:                      48   BIC:                             126.0\n",
      "Df Model:                           1                                         \n",
      "Covariance Type:            nonrobust                                         \n",
      "==============================================================================\n",
      "                 coef    std err          t      P>|t|      [0.025      0.975]\n",
      "------------------------------------------------------------------------------\n",
      "Intercept      2.8883      0.536      5.384      0.000       1.810       3.967\n",
      "act_und_r2     0.3426      0.162      2.120      0.039       0.018       0.667\n",
      "==============================================================================\n",
      "Omnibus:                        2.277   Durbin-Watson:                   1.788\n",
      "Prob(Omnibus):                  0.320   Jarque-Bera (JB):                2.190\n",
      "Skew:                          -0.464   Prob(JB):                        0.335\n",
      "Kurtosis:                       2.566   Cond. No.                         17.0\n",
      "==============================================================================\n",
      "\n",
      "Warnings:\n",
      "[1] Standard Errors assume that the covariance matrix of the errors is correctly specified.\n",
      "                            OLS Regression Results                            \n",
      "==============================================================================\n",
      "Dep. Variable:            benevolence   R-squared:                       0.170\n",
      "Model:                            OLS   Adj. R-squared:                  0.153\n",
      "Method:                 Least Squares   F-statistic:                     9.834\n",
      "Date:                Wed, 26 Aug 2020   Prob (F-statistic):            0.00292\n",
      "Time:                        20:05:50   Log-Likelihood:                -32.840\n",
      "No. Observations:                  50   AIC:                             69.68\n",
      "Df Residuals:                      48   BIC:                             73.50\n",
      "Df Model:                           1                                         \n",
      "Covariance Type:            nonrobust                                         \n",
      "==============================================================================\n",
      "                 coef    std err          t      P>|t|      [0.025      0.975]\n",
      "------------------------------------------------------------------------------\n",
      "Intercept      2.2131      0.318      6.970      0.000       1.575       2.851\n",
      "act_und_r2    -0.2999      0.096     -3.136      0.003      -0.492      -0.108\n",
      "==============================================================================\n",
      "Omnibus:                       21.592   Durbin-Watson:                   1.507\n",
      "Prob(Omnibus):                  0.000   Jarque-Bera (JB):               29.480\n",
      "Skew:                           1.551   Prob(JB):                     3.97e-07\n",
      "Kurtosis:                       5.129   Cond. No.                         17.0\n",
      "==============================================================================\n",
      "\n",
      "Warnings:\n",
      "[1] Standard Errors assume that the covariance matrix of the errors is correctly specified.\n",
      "                            OLS Regression Results                            \n",
      "==============================================================================\n",
      "Dep. Variable:              integrity   R-squared:                       0.129\n",
      "Model:                            OLS   Adj. R-squared:                  0.111\n",
      "Method:                 Least Squares   F-statistic:                     7.139\n",
      "Date:                Wed, 26 Aug 2020   Prob (F-statistic):             0.0103\n",
      "Time:                        20:05:50   Log-Likelihood:                -36.534\n",
      "No. Observations:                  50   AIC:                             77.07\n",
      "Df Residuals:                      48   BIC:                             80.89\n",
      "Df Model:                           1                                         \n",
      "Covariance Type:            nonrobust                                         \n",
      "==============================================================================\n",
      "                 coef    std err          t      P>|t|      [0.025      0.975]\n",
      "------------------------------------------------------------------------------\n",
      "Intercept      2.4074      0.342      7.042      0.000       1.720       3.095\n",
      "act_und_r2     0.2751      0.103      2.672      0.010       0.068       0.482\n",
      "==============================================================================\n",
      "Omnibus:                        6.097   Durbin-Watson:                   1.362\n",
      "Prob(Omnibus):                  0.047   Jarque-Bera (JB):                2.392\n",
      "Skew:                           0.158   Prob(JB):                        0.302\n",
      "Kurtosis:                       1.976   Cond. No.                         17.0\n",
      "==============================================================================\n",
      "\n",
      "Warnings:\n",
      "[1] Standard Errors assume that the covariance matrix of the errors is correctly specified.\n"
     ]
    }
   ],
   "source": [
    "#three components\n",
    "reg1=smf.ols('competence~act_und_r2',data=df_treatment).fit()\n",
    "print(reg1.summary())\n",
    "reg2=smf.ols('benevolence~act_und_r2',data=df_treatment).fit()\n",
    "print(reg2.summary())\n",
    "reg3=smf.ols('integrity~act_und_r2',data=df_treatment).fit()\n",
    "print(reg3.summary())"
   ]
  },
  {
   "cell_type": "markdown",
   "metadata": {},
   "source": [
    "probably depricated\n",
    "\n",
    "---\n"
   ]
  },
  {
   "cell_type": "markdown",
   "metadata": {},
   "source": [
    "### [H3]: Reasoned explanations of the app’s functionality will increase trust more than other types of transparency features.\n",
    "We will test whether trust in the treatment group with transparency condition 'detailed' increased more than the treatment group with transparency condition 'brief'."
   ]
  },
  {
   "cell_type": "markdown",
   "metadata": {},
   "source": [
    "Because we do not use the control group for this hypothesis we will remove participants, which got the color check wrong."
   ]
  },
  {
   "cell_type": "code",
   "execution_count": 49,
   "metadata": {},
   "outputs": [],
   "source": [
    "df_clean_valid = df_clean[df_clean['color_check'] == True]"
   ]
  },
  {
   "cell_type": "code",
   "execution_count": 51,
   "metadata": {},
   "outputs": [
    {
     "name": "stdout",
     "output_type": "stream",
     "text": [
      "Number of participants in the...\n",
      "... 'brief' group:    23\n",
      "... 'detailed' group: 20\n",
      "\n",
      "Mean trust of participants in the...\n",
      "... 'brief' group:    ~2.8116\n",
      "... 'detailed' group: ~2.9167\n",
      "\n",
      "\n"
     ]
    }
   ],
   "source": [
    "tr_brief=df_clean_valid.loc[df_clean_valid['group']=='brief']['trust']\n",
    "tr_detailed=df_clean_valid.loc[df_clean_valid['group']=='detailed']['trust']\n",
    "\n",
    "print(\"\"\"Number of participants in the...\n",
    "... 'brief' group:    {}\n",
    "... 'detailed' group: {}\n",
    "\n",
    "Mean trust of participants in the...\n",
    "... 'brief' group:    ~{:.4f}\n",
    "... 'detailed' group: ~{:.4f}\n",
    "\n",
    "\"\"\".format(len(tr_brief), len(tr_detailed),\n",
    "          np.mean(tr_brief), np.mean(tr_detailed),\n",
    "          ))"
   ]
  },
  {
   "cell_type": "code",
   "execution_count": 52,
   "metadata": {},
   "outputs": [
    {
     "name": "stdout",
     "output_type": "stream",
     "text": [
      "trust in 'brief' group vs. trust in 'detailed' group \n",
      " MannwhitneyuResult(statistic=181.0, pvalue=0.21253369484977003)\n"
     ]
    }
   ],
   "source": [
    "MWU=stats.mannwhitneyu(tr_brief,tr_detailed,alternative='two-sided') #MWU Test, non-parametic for independent samples\n",
    "print(\"trust in 'brief' group vs. trust in 'detailed' group \\n\", MWU)"
   ]
  }
 ],
 "metadata": {
  "kernelspec": {
   "display_name": "Python 3",
   "language": "python",
   "name": "python3"
  },
  "language_info": {
   "codemirror_mode": {
    "name": "ipython",
    "version": 3
   },
   "file_extension": ".py",
   "mimetype": "text/x-python",
   "name": "python",
   "nbconvert_exporter": "python",
   "pygments_lexer": "ipython3",
   "version": "3.7.7"
  }
 },
 "nbformat": 4,
 "nbformat_minor": 4
}
